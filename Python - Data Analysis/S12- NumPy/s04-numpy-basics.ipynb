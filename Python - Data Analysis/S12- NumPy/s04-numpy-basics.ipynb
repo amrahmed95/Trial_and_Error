{
 "cells": [
  {
   "cell_type": "markdown",
   "metadata": {},
   "source": [
    "# Numpy Basics"
   ]
  },
  {
   "cell_type": "markdown",
   "metadata": {},
   "source": [
    "## Today's Outline:\n",
    "- Introduction to NumPy\n",
    "- NumPy Functions\n",
    "- [Practical Exercises](https://www.w3resource.com/python-exercises/numpy/index.php)\n",
    "- Case-study"
   ]
  },
  {
   "cell_type": "markdown",
   "metadata": {},
   "source": [
    "=========="
   ]
  },
  {
   "cell_type": "markdown",
   "metadata": {},
   "source": [
    "## Introduction to NumPy\n",
    "- Get Help!\n",
    "    - Jupyter Help\n",
    "    - API Reference\n",
    "    - Kaggle\n",
    "    - Stackoverflow\n",
    "- Why NumPy?\n",
    "- NumPy in Data Science\n",
    "    - Practical Examples"
   ]
  },
  {
   "cell_type": "markdown",
   "metadata": {},
   "source": [
    "### Why NumPy?\n",
    "- Numerical Python (NumPy Array)\n",
    "- Very Useful for Mathematical Operations\n",
    "- Multi-Dimensional Arrays (Linear Algebra)\n",
    "- Easy & Fast\n",
    "- Mutable / Homogenous / Indexable\n",
    "- Free & Open-source"
   ]
  },
  {
   "cell_type": "markdown",
   "metadata": {},
   "source": [
    "#### NumPy Documentation"
   ]
  },
  {
   "cell_type": "markdown",
   "metadata": {},
   "source": [
    "https://numpy.org/doc/stable/reference/index.html"
   ]
  },
  {
   "cell_type": "markdown",
   "metadata": {},
   "source": [
    "Download Cheat-Sheet from Here:\n",
    "- https://s3.amazonaws.com/dq-blog-files/numpy-cheat-sheet.pdf\n",
    "- https://datacamp-community-prod.s3.amazonaws.com/e9f83f72-a81b-42c7-af44-4e35b48b20b7"
   ]
  },
  {
   "cell_type": "markdown",
   "metadata": {},
   "source": [
    "=========="
   ]
  },
  {
   "cell_type": "markdown",
   "metadata": {},
   "source": [
    "#### NumPy Arrays vs. Python Lists"
   ]
  },
  {
   "cell_type": "code",
   "execution_count": null,
   "metadata": {},
   "outputs": [],
   "source": [
    "# Let's see the importance of NumPy Arrays, and their advantages over Python Lists\n",
    "\n",
    "# Defining two list\n",
    "a = [1,2,3]\n",
    "b = [4,5,6]\n",
    "print(a)\n",
    "print(b)"
   ]
  },
  {
   "cell_type": "code",
   "execution_count": null,
   "metadata": {
    "scrolled": true
   },
   "outputs": [],
   "source": [
    "# Using '+' operator is used for concatination not for element-wise addition\n",
    "a + b"
   ]
  },
  {
   "cell_type": "code",
   "execution_count": null,
   "metadata": {},
   "outputs": [],
   "source": [
    "# For adding to lists you have to do the following\n",
    "\n",
    "# Element-wise addition of lists using indexing\n",
    "c = [(a[0]+b[0]), (a[1]+b[1]), (a[2]+b[2])]\n",
    "print(c)\n",
    "\n",
    "# Element-wise addition of lists using iteration\n",
    "d = []\n",
    "for i in range(len(a)):\n",
    "    d.append(a[i]+b[i])\n",
    "print(d)"
   ]
  },
  {
   "cell_type": "code",
   "execution_count": null,
   "metadata": {},
   "outputs": [],
   "source": [
    "# Also, '/' operator is not allowed for division of lists\n",
    "a/b"
   ]
  },
  {
   "cell_type": "code",
   "execution_count": null,
   "metadata": {},
   "outputs": [],
   "source": [
    "# Now, let's use NumPy Arrays to solve these problems\n",
    "import numpy as np\n",
    "np_a = np.array([1,2,3])\n",
    "np_b = np.array([4,5,6])\n",
    "print(np_a)\n",
    "print(np_b)"
   ]
  },
  {
   "cell_type": "code",
   "execution_count": null,
   "metadata": {},
   "outputs": [],
   "source": [
    "# You can now do the element-wise addition easily\n",
    "np_c = np_a + np_b\n",
    "print(np_c)"
   ]
  },
  {
   "cell_type": "code",
   "execution_count": null,
   "metadata": {},
   "outputs": [],
   "source": [
    "# And the element-wise division too\n",
    "np_d = np_a / np_b\n",
    "print(np_d)"
   ]
  },
  {
   "cell_type": "markdown",
   "metadata": {},
   "source": [
    "### NumPy in Data Science\n",
    "- Data Preprocessing\n",
    "- Linear Regression (LU Decomposition / SVD)\n",
    "- Encoding Variables (Categorical)\n",
    "- Recommender Systems\n",
    "- Principle Component Analysis (PCA) / Dimensionality Reduction\n",
    "- Deep Learning & Neural Networks\n",
    "- And much more .."
   ]
  },
  {
   "cell_type": "code",
   "execution_count": null,
   "metadata": {},
   "outputs": [],
   "source": []
  },
  {
   "cell_type": "markdown",
   "metadata": {},
   "source": [
    "=========="
   ]
  },
  {
   "cell_type": "markdown",
   "metadata": {},
   "source": [
    "## NumPy Functions\n",
    "- Importing NumPy\n",
    "- Creating & Initializing NumPy Arrays\n",
    "- Inspecting Properties\n",
    "- NumPy Data Types\n",
    "- Indexing, Slicing, & Subsetting\n",
    "- Adding & Removing Elements\n",
    "- Combining & Splitting\n",
    "- Copy, Sorting, Reshaping\n",
    "- Scalar & Vector Math\n",
    "- Statistics\n",
    "- Broadcasting & Typecasting (ufuncs)"
   ]
  },
  {
   "cell_type": "markdown",
   "metadata": {},
   "source": [
    "### Importing NumPy"
   ]
  },
  {
   "cell_type": "code",
   "execution_count": null,
   "metadata": {},
   "outputs": [],
   "source": [
    "import numpy"
   ]
  },
  {
   "cell_type": "code",
   "execution_count": null,
   "metadata": {},
   "outputs": [],
   "source": [
    "# Always try to use this convention\n",
    "import numpy as np"
   ]
  },
  {
   "cell_type": "code",
   "execution_count": null,
   "metadata": {},
   "outputs": [],
   "source": [
    "# You can select a specific function in NumPy\n",
    "from numpy import array "
   ]
  },
  {
   "cell_type": "code",
   "execution_count": null,
   "metadata": {},
   "outputs": [],
   "source": [
    "# Also, you can import a specific function in any sub-module\n",
    "from numpy.linalg import det"
   ]
  },
  {
   "cell_type": "code",
   "execution_count": null,
   "metadata": {},
   "outputs": [],
   "source": []
  },
  {
   "cell_type": "markdown",
   "metadata": {},
   "source": [
    "=========="
   ]
  },
  {
   "cell_type": "markdown",
   "metadata": {},
   "source": [
    "### Creating & Initializing NumPy Arrays"
   ]
  },
  {
   "cell_type": "markdown",
   "metadata": {},
   "source": [
    "| Operator                    \t| Description                                              \t|\n",
    "|-----------------------------\t|----------------------------------------------------------\t|\n",
    "| np.array([1,2,3])           \t| 1d array                                                 \t|\n",
    "| np.array([(1,2,3),(4,5,6)]) \t| 2d array                                                 \t|\n",
    "| np.arange(start,stop,step)  \t| range array                                              \t|\n",
    "| np.linspace(0,2,9)          \t| Add evenly spaced values btw interval to array of length \t|\n",
    "| np.zeros((1,2))             \t| Create and array filled with zeros                       \t|\n",
    "| np.ones((1,2))              \t| Creates an array filled with ones                        \t|\n",
    "| np.random.random((5,5))     \t| Creates random array                                     \t|\n",
    "| np.empty((2,2))             \t| Creates an empty array                                   \t|"
   ]
  },
  {
   "cell_type": "code",
   "execution_count": null,
   "metadata": {},
   "outputs": [],
   "source": [
    "# Importing NumPy module\n",
    "import numpy as np"
   ]
  },
  {
   "cell_type": "code",
   "execution_count": null,
   "metadata": {},
   "outputs": [],
   "source": [
    "from IPython.display import Image\n",
    "Image(\"data/ndarrays.png\")"
   ]
  },
  {
   "cell_type": "code",
   "execution_count": null,
   "metadata": {},
   "outputs": [],
   "source": [
    "# Creating a 0-D NumPy Array\n",
    "arr0 = np.array(40)\n",
    "arr0"
   ]
  },
  {
   "cell_type": "code",
   "execution_count": null,
   "metadata": {},
   "outputs": [],
   "source": [
    "# Creating a 1-D NumPy Array\n",
    "arr1 = np.array([1,2,3])\n",
    "arr1"
   ]
  },
  {
   "cell_type": "code",
   "execution_count": null,
   "metadata": {},
   "outputs": [],
   "source": [
    "# Creating a 2-D NumPy Array\n",
    "arr2 = np.array([[1.0,2.3,4.5],[8.6,1.2,7.3]])\n",
    "arr2"
   ]
  },
  {
   "cell_type": "code",
   "execution_count": null,
   "metadata": {},
   "outputs": [],
   "source": [
    "# Creating a 3-D NumPy Array using ndim attribute\n",
    "arr3 = np.array([4,5,6,7], ndmin=3) # np.array([[[5]]])\n",
    "arr3"
   ]
  },
  {
   "cell_type": "code",
   "execution_count": null,
   "metadata": {},
   "outputs": [],
   "source": [
    "# Another way for creating a 3-D NumPy Array\n",
    "arr3a = np.array([[[1,2],[3,4]],[[5,6],[7,8]]])\n",
    "arr3a"
   ]
  },
  {
   "cell_type": "code",
   "execution_count": null,
   "metadata": {},
   "outputs": [],
   "source": [
    "# Creating a NumPy Array full of zeros with 3-elements\n",
    "np.zeros(3)"
   ]
  },
  {
   "cell_type": "code",
   "execution_count": null,
   "metadata": {},
   "outputs": [],
   "source": [
    "# Creating a NumPy Array full of ones with 3x4 dimensions\n",
    "np.ones((3,4))"
   ]
  },
  {
   "cell_type": "code",
   "execution_count": null,
   "metadata": {},
   "outputs": [],
   "source": [
    "# Creating a NumPy Array for a 3x3 identity matrix \n",
    "np.identity(3)"
   ]
  },
  {
   "cell_type": "code",
   "execution_count": null,
   "metadata": {},
   "outputs": [],
   "source": [
    "# Another way for creating a NumPy Array for a 3x3 identity matrix \n",
    "np.eye(3)"
   ]
  },
  {
   "cell_type": "code",
   "execution_count": null,
   "metadata": {
    "scrolled": true
   },
   "outputs": [],
   "source": [
    "# Creating a NumPy Array full of a specific number\n",
    "np.full((3,4), 8)"
   ]
  },
  {
   "cell_type": "code",
   "execution_count": null,
   "metadata": {},
   "outputs": [],
   "source": [
    "# Initializing an empty NumPy Array with a dummy (garbage) data\n",
    "np.empty((2,3))"
   ]
  },
  {
   "cell_type": "code",
   "execution_count": null,
   "metadata": {},
   "outputs": [],
   "source": [
    "# Creating a NumPy Array from a range\n",
    "np.arange(5)"
   ]
  },
  {
   "cell_type": "code",
   "execution_count": null,
   "metadata": {},
   "outputs": [],
   "source": [
    "# Another way for creating a NumPy Array from a range by specifying the start, the end, & the step, and reshaping the result\n",
    "np.arange(4,20,2).reshape(4,2)"
   ]
  },
  {
   "cell_type": "code",
   "execution_count": null,
   "metadata": {},
   "outputs": [],
   "source": [
    "# Creating a NumPy Array with a range between tow points\n",
    "np.linspace(0,10,5)"
   ]
  },
  {
   "cell_type": "code",
   "execution_count": null,
   "metadata": {},
   "outputs": [],
   "source": [
    "# Creating a random NumPy Array in a range between 0 & 1\n",
    "np.random.rand(4,5)"
   ]
  },
  {
   "cell_type": "code",
   "execution_count": null,
   "metadata": {},
   "outputs": [],
   "source": [
    "# Creating a random integer NumPy Array in a range between 0 & 1\n",
    "np.random.randint(10, size=(4,5))"
   ]
  },
  {
   "cell_type": "code",
   "execution_count": null,
   "metadata": {},
   "outputs": [],
   "source": [
    "# Creating a random NumPy Array based-on a normal distribution by providing the mean and the standard deviation\n",
    "np.random.normal(1,2,5)"
   ]
  },
  {
   "cell_type": "code",
   "execution_count": null,
   "metadata": {},
   "outputs": [],
   "source": [
    "# Creating a random integer NumPy Array based-on a standard normal distribution \n",
    "np.random.randn(6)"
   ]
  },
  {
   "cell_type": "code",
   "execution_count": null,
   "metadata": {},
   "outputs": [],
   "source": [
    "# You can create a NumPy Array-like to define a NumPy Array similar to a given NumPy Array\n",
    "# np.zeros_like(), np.ones_like(), np.empty_like(), np.full_like() \n",
    "arr2_like = np.zeros_like(arr2)\n",
    "arr2_like"
   ]
  },
  {
   "cell_type": "code",
   "execution_count": null,
   "metadata": {},
   "outputs": [],
   "source": []
  },
  {
   "cell_type": "markdown",
   "metadata": {},
   "source": [
    "=========="
   ]
  },
  {
   "cell_type": "markdown",
   "metadata": {},
   "source": [
    "### Inspecting Properties"
   ]
  },
  {
   "cell_type": "markdown",
   "metadata": {},
   "source": [
    "| Syntax             \t| Description                \t|\n",
    "|--------------------\t|----------------------------\t|\n",
    "| array.shape        \t| Dimensions (Rows,Columns)  \t|\n",
    "| len(array)         \t| Length of Array            \t|\n",
    "| array.ndim         \t| Number of Array Dimensions \t|\n",
    "| array.dtype        \t| Data Type                  \t|\n",
    "| array.astype(type) \t| Converts to Data Type      \t|\n",
    "| type(array)        \t| Type of Array              \t|"
   ]
  },
  {
   "cell_type": "code",
   "execution_count": null,
   "metadata": {},
   "outputs": [],
   "source": [
    "arr1"
   ]
  },
  {
   "cell_type": "code",
   "execution_count": null,
   "metadata": {},
   "outputs": [],
   "source": [
    "arr2"
   ]
  },
  {
   "cell_type": "code",
   "execution_count": null,
   "metadata": {},
   "outputs": [],
   "source": [
    "# Calculating the dimension of 1-D NumPy Array\n",
    "arr1.ndim"
   ]
  },
  {
   "cell_type": "code",
   "execution_count": null,
   "metadata": {},
   "outputs": [],
   "source": [
    "# Calculating the dimension of 2-D NumPy Array\n",
    "arr2.ndim"
   ]
  },
  {
   "cell_type": "code",
   "execution_count": null,
   "metadata": {},
   "outputs": [],
   "source": [
    "# Finding the number of elements in each dimension\n",
    "arr1.shape"
   ]
  },
  {
   "cell_type": "code",
   "execution_count": null,
   "metadata": {},
   "outputs": [],
   "source": [
    "# Finding the number of elements in a specific dimension\n",
    "arr2.shape[1]"
   ]
  },
  {
   "cell_type": "code",
   "execution_count": null,
   "metadata": {},
   "outputs": [],
   "source": [
    "# Evaluating the truthness of a NumPy Array\n",
    "x = np.array([1,0,1,0,0,1])\n",
    "x.any(), x.all()"
   ]
  },
  {
   "cell_type": "code",
   "execution_count": null,
   "metadata": {},
   "outputs": [],
   "source": []
  },
  {
   "cell_type": "markdown",
   "metadata": {},
   "source": [
    "=========="
   ]
  },
  {
   "cell_type": "markdown",
   "metadata": {},
   "source": [
    "### NumPy Data Types"
   ]
  },
  {
   "cell_type": "markdown",
   "metadata": {},
   "source": [
    "| Data Types \t|                                    Description                                   \t|\n",
    "|:----------:\t|:--------------------------------------------------------------------------------:\t|\n",
    "| bool_      \t| Boolean (True or False) stored as a byte                                         \t|\n",
    "| int_       \t| Default integer type (same as C long; normally either int64 or int32)            \t|\n",
    "| intc       \t| Identical to C int (normally int32 or int64)                                     \t|\n",
    "| intp       \t| Integer used for indexing (same as C ssize_t; normally either int32 or int64)    \t|\n",
    "| int8       \t| Byte (-128 to 127)                                                               \t|\n",
    "| int16      \t| Integer (-32768 to 32767)                                                        \t|\n",
    "| int32      \t| Integer (-2147483648 to 2147483647)                                              \t|\n",
    "| int64      \t| Integer (-9223372036854775808 to 9223372036854775807)                            \t|\n",
    "| uint8      \t| Unsigned integer (0 to 255)                                                      \t|\n",
    "| uint16     \t| Unsigned integer (0 to 65535)                                                    \t|\n",
    "| uint32     \t| Unsigned integer (0 to 4294967295)                                               \t|\n",
    "| uint64     \t| Unsigned integer (0 to 18446744073709551615)                                     \t|\n",
    "| float_     \t| Shorthand for float64                                                            \t|\n",
    "| float16    \t| Half precision float: sign bit, 5 bits exponent, 10 bits mantissa                \t|\n",
    "| float32    \t| Single precision float: sign bit, 8 bits exponent, 23 bits mantissa              \t|\n",
    "| float64    \t| Double precision float: sign bit, 11 bits exponent, 52 bits mantissa             \t|\n",
    "| complex_   \t| Shorthand for complex128                                                         \t|\n",
    "| complex64  \t| Complex number, represented by two 32-bit floats (real and imaginary components) \t|\n",
    "| complex128 \t| Complex number, represented by two 64-bit floats (real and imaginary components) \t|"
   ]
  },
  {
   "cell_type": "code",
   "execution_count": null,
   "metadata": {},
   "outputs": [],
   "source": [
    "# Double precision float: sign bit, 11 bits exponent, 52 bits mantissa\n",
    "np.float64"
   ]
  },
  {
   "cell_type": "code",
   "execution_count": null,
   "metadata": {},
   "outputs": [],
   "source": [
    "# Finding the data type of our NumPy Array\n",
    "arr2.dtype"
   ]
  },
  {
   "cell_type": "code",
   "execution_count": null,
   "metadata": {},
   "outputs": [],
   "source": [
    "# Using dtype attribute in array function to convert the data type\n",
    "arr_data = np.array([[1,2,3],[4,5,6]], dtype = np.float64) # You can also use 'float64' between quotations mark \n",
    "arr_data"
   ]
  },
  {
   "cell_type": "code",
   "execution_count": null,
   "metadata": {},
   "outputs": [],
   "source": [
    "# Creating a NumPy Array full of NaN value (Not a Number)\n",
    "an_array = np.empty((3,3))\n",
    "an_array[:] = np.NaN\n",
    "print(an_array)"
   ]
  },
  {
   "cell_type": "code",
   "execution_count": null,
   "metadata": {},
   "outputs": [],
   "source": [
    "# Converting the data type of an array using astype() function\n",
    "arr3.astype(np.float64).dtype"
   ]
  },
  {
   "cell_type": "code",
   "execution_count": null,
   "metadata": {},
   "outputs": [],
   "source": []
  },
  {
   "cell_type": "markdown",
   "metadata": {},
   "source": [
    "=========="
   ]
  },
  {
   "cell_type": "markdown",
   "metadata": {},
   "source": [
    "### Indexing, Slicing, & Subsetting"
   ]
  },
  {
   "cell_type": "markdown",
   "metadata": {},
   "source": [
    "| Operator        \t| Description                                  \t|\n",
    "|-----------------\t|----------------------------------------------\t|\n",
    "| array[i]        \t| 1d array at index i                          \t|\n",
    "| array[i,j]      \t| 2d array at index[i][j]                      \t|\n",
    "| array[i<4]      \t| Boolean Indexing, see Tricks                 \t|\n",
    "| array[0:3]      \t| Select items of index 0, 1 and 2             \t|\n",
    "| array[0:2,1]    \t| Select items of rows 0 and 1 at column 1     \t|\n",
    "| array[:1]       \t| Select items of row 0 (equals array[0:1, :]) \t|\n",
    "| array[1:2, :]   \t| Select items of row 1                        \t|\n",
    "| [comment]: <> ( \t| array[1,...]                                 \t|\n",
    "| array[ : :-1]   \t| Reverses array                               \t|"
   ]
  },
  {
   "cell_type": "code",
   "execution_count": null,
   "metadata": {},
   "outputs": [],
   "source": [
    "from IPython.display import Image\n",
    "Image(\"data/index.png\")"
   ]
  },
  {
   "cell_type": "code",
   "execution_count": null,
   "metadata": {},
   "outputs": [],
   "source": [
    "arr1"
   ]
  },
  {
   "cell_type": "code",
   "execution_count": null,
   "metadata": {},
   "outputs": [],
   "source": [
    "# Modifing a specific element in the array by indexing it\n",
    "arr1[1] = 5\n",
    "arr1"
   ]
  },
  {
   "cell_type": "code",
   "execution_count": null,
   "metadata": {},
   "outputs": [],
   "source": [
    "# You can get the last element by index -1\n",
    "arr1[-1]"
   ]
  },
  {
   "cell_type": "code",
   "execution_count": null,
   "metadata": {},
   "outputs": [],
   "source": [
    "arr2"
   ]
  },
  {
   "cell_type": "code",
   "execution_count": null,
   "metadata": {},
   "outputs": [],
   "source": [
    "# Indexing an element in the 2-D NumPy Array\n",
    "arr2[1][2]"
   ]
  },
  {
   "cell_type": "code",
   "execution_count": null,
   "metadata": {},
   "outputs": [],
   "source": [
    "# Another way for indexing the 2-D NumPy Array\n",
    "arr2[1,2]"
   ]
  },
  {
   "cell_type": "code",
   "execution_count": null,
   "metadata": {},
   "outputs": [],
   "source": [
    "# Slicing the 1-D NumPy Array to get multiple elements at once\n",
    "arr1[0:2]"
   ]
  },
  {
   "cell_type": "code",
   "execution_count": null,
   "metadata": {},
   "outputs": [],
   "source": [
    "# Getting all of the elements\n",
    "arr1[:]"
   ]
  },
  {
   "cell_type": "code",
   "execution_count": null,
   "metadata": {},
   "outputs": [],
   "source": [
    "# Slicing the 2-D NumPy Array to get multiple elements at once\n",
    "arr2[:,2]"
   ]
  },
  {
   "cell_type": "code",
   "execution_count": null,
   "metadata": {},
   "outputs": [],
   "source": [
    "# Also we can skip columns by doubling the step\n",
    "arr2[0:3,::2]"
   ]
  },
  {
   "cell_type": "code",
   "execution_count": null,
   "metadata": {},
   "outputs": [],
   "source": [
    "# Boolean indexing would be helpful in getting specific elements\n",
    "arr2[arr2 < 5]"
   ]
  },
  {
   "cell_type": "code",
   "execution_count": null,
   "metadata": {},
   "outputs": [],
   "source": [
    "# Give it a try!\n",
    "from IPython.display import Image\n",
    "Image(\"data/slicing.png\")"
   ]
  },
  {
   "cell_type": "code",
   "execution_count": null,
   "metadata": {},
   "outputs": [],
   "source": [
    "arr = np.arange(25).reshape(5, 5)\n",
    "arr"
   ]
  },
  {
   "cell_type": "code",
   "execution_count": null,
   "metadata": {},
   "outputs": [],
   "source": [
    "# Get Last row\n",
    "arr[-1]"
   ]
  },
  {
   "cell_type": "code",
   "execution_count": null,
   "metadata": {},
   "outputs": [],
   "source": [
    "# Get all rows and last column\n",
    "arr[:, -1]"
   ]
  },
  {
   "cell_type": "code",
   "execution_count": null,
   "metadata": {},
   "outputs": [],
   "source": [
    "arr[ : , [1,3] ]"
   ]
  },
  {
   "cell_type": "code",
   "execution_count": null,
   "metadata": {},
   "outputs": [],
   "source": [
    "arr[ : , 1: :2 ]"
   ]
  },
  {
   "cell_type": "code",
   "execution_count": null,
   "metadata": {},
   "outputs": [],
   "source": [
    "arr[1::2, :4:2]"
   ]
  },
  {
   "cell_type": "markdown",
   "metadata": {},
   "source": [
    "=========="
   ]
  },
  {
   "cell_type": "markdown",
   "metadata": {},
   "source": [
    "### Adding, & Removing Elements"
   ]
  },
  {
   "cell_type": "markdown",
   "metadata": {},
   "source": [
    "| Operator                     \t| Description                            \t|\n",
    "|------------------------------\t|----------------------------------------\t|\n",
    "| np.append(a,b)               \t| Append items to array                  \t|\n",
    "| np.insert(array, 1, 2, axis) \t| Insert items into array at axis 0 or 1 \t|\n",
    "| np.resize((2,4))             \t| Resize array to shape(2,4)             \t|\n",
    "| np.delete(array,1,axis)      \t| Deletes items from array               \t|"
   ]
  },
  {
   "cell_type": "code",
   "execution_count": null,
   "metadata": {},
   "outputs": [],
   "source": [
    "# Adding a new element to the array\n",
    "arr1 = np.append(arr1,4.2)\n",
    "arr1"
   ]
  },
  {
   "cell_type": "code",
   "execution_count": null,
   "metadata": {},
   "outputs": [],
   "source": [
    "# Removing the last element from the array\n",
    "arr1 = np.delete(arr1,-1)\n",
    "arr1"
   ]
  },
  {
   "cell_type": "code",
   "execution_count": null,
   "metadata": {},
   "outputs": [],
   "source": [
    "# Inserting an element in a specific position in the array\n",
    "arr1 = np.insert(arr1,1,6.7)\n",
    "arr1"
   ]
  },
  {
   "cell_type": "code",
   "execution_count": null,
   "metadata": {},
   "outputs": [],
   "source": []
  },
  {
   "cell_type": "markdown",
   "metadata": {},
   "source": [
    "=========="
   ]
  },
  {
   "cell_type": "markdown",
   "metadata": {},
   "source": [
    "### Combining & Splitting"
   ]
  },
  {
   "cell_type": "markdown",
   "metadata": {},
   "source": [
    "| Operator                     \t| Description                                             \t|\n",
    "|------------------------------\t|---------------------------------------------------------\t|\n",
    "| np.concatenate((a,b),axis=0) \t| Concatenates 2 arrays, adds to end                      \t|\n",
    "| np.vstack((a,b))             \t| Stack array row-wise                                    \t|\n",
    "| np.hstack((a,b))             \t| Stack array column wise                                 \t|\n",
    "| numpy.split()                \t| Split an array into multiple sub-arrays.                \t|\n",
    "| np.array_split(array, 3)     \t| Split an array in sub-arrays of (nearly) identical size \t|\n",
    "| numpy.hsplit(array, 3)       \t| Split the array horizontally at 3rd index               \t|"
   ]
  },
  {
   "cell_type": "code",
   "execution_count": null,
   "metadata": {},
   "outputs": [],
   "source": [
    "# Defining new arrays\n",
    "a = np.array([1,2,3])\n",
    "b = np.array([4,5,6])"
   ]
  },
  {
   "cell_type": "code",
   "execution_count": null,
   "metadata": {},
   "outputs": [],
   "source": [
    "# Concatenating two arrays\n",
    "c = np.concatenate((a,b))\n",
    "c"
   ]
  },
  {
   "cell_type": "code",
   "execution_count": null,
   "metadata": {},
   "outputs": [],
   "source": [
    "# Combing two arrays vertically\n",
    "c = np.vstack((a,b))\n",
    "c"
   ]
  },
  {
   "cell_type": "code",
   "execution_count": null,
   "metadata": {},
   "outputs": [],
   "source": [
    "# Combing two arrays horizontally\n",
    "c = np.hstack((a,b))\n",
    "c"
   ]
  },
  {
   "cell_type": "code",
   "execution_count": null,
   "metadata": {},
   "outputs": [],
   "source": [
    "# Defining a new array for splitting\n",
    "d = np.arange(12).reshape(4,3)\n",
    "d"
   ]
  },
  {
   "cell_type": "code",
   "execution_count": null,
   "metadata": {},
   "outputs": [],
   "source": [
    "# Splitting an array to two arrays\n",
    "e,f = np.split(d,2)"
   ]
  },
  {
   "cell_type": "code",
   "execution_count": null,
   "metadata": {},
   "outputs": [],
   "source": [
    "e"
   ]
  },
  {
   "cell_type": "code",
   "execution_count": null,
   "metadata": {},
   "outputs": [],
   "source": [
    "f"
   ]
  },
  {
   "cell_type": "code",
   "execution_count": null,
   "metadata": {},
   "outputs": [],
   "source": []
  },
  {
   "cell_type": "markdown",
   "metadata": {},
   "source": [
    "=========="
   ]
  },
  {
   "cell_type": "markdown",
   "metadata": {},
   "source": [
    "### Copy, Sorting, Reshaping"
   ]
  },
  {
   "cell_type": "code",
   "execution_count": null,
   "metadata": {},
   "outputs": [],
   "source": [
    "a = np.array([1,2,3,4])\n",
    "a"
   ]
  },
  {
   "cell_type": "code",
   "execution_count": null,
   "metadata": {},
   "outputs": [],
   "source": [
    "# Deep Copy\n",
    "b = a"
   ]
  },
  {
   "cell_type": "code",
   "execution_count": null,
   "metadata": {},
   "outputs": [],
   "source": [
    "b"
   ]
  },
  {
   "cell_type": "code",
   "execution_count": null,
   "metadata": {},
   "outputs": [],
   "source": [
    "b[1] = 6"
   ]
  },
  {
   "cell_type": "code",
   "execution_count": null,
   "metadata": {},
   "outputs": [],
   "source": [
    "b"
   ]
  },
  {
   "cell_type": "code",
   "execution_count": null,
   "metadata": {},
   "outputs": [],
   "source": [
    "a"
   ]
  },
  {
   "cell_type": "code",
   "execution_count": null,
   "metadata": {},
   "outputs": [],
   "source": [
    "# a and b are pointing to the same position in the memory\n",
    "id(a), id(b)"
   ]
  },
  {
   "cell_type": "code",
   "execution_count": null,
   "metadata": {},
   "outputs": [],
   "source": [
    "# Shallow Copy\n",
    "b = np.copy(a) \n",
    "b"
   ]
  },
  {
   "cell_type": "code",
   "execution_count": null,
   "metadata": {},
   "outputs": [],
   "source": [
    "b[1] = 10\n",
    "b"
   ]
  },
  {
   "cell_type": "code",
   "execution_count": null,
   "metadata": {},
   "outputs": [],
   "source": [
    "a"
   ]
  },
  {
   "cell_type": "code",
   "execution_count": null,
   "metadata": {},
   "outputs": [],
   "source": [
    "c = np.random.rand(4,3)\n",
    "c"
   ]
  },
  {
   "cell_type": "code",
   "execution_count": null,
   "metadata": {},
   "outputs": [],
   "source": [
    "# Reshaping the array\n",
    "c.reshape(6,2)"
   ]
  },
  {
   "cell_type": "code",
   "execution_count": null,
   "metadata": {},
   "outputs": [],
   "source": [
    "d = np.random.rand(4,3)\n",
    "d"
   ]
  },
  {
   "cell_type": "code",
   "execution_count": null,
   "metadata": {
    "scrolled": true
   },
   "outputs": [],
   "source": [
    "# Resizing the array\n",
    "np.resize(d,(6,3))"
   ]
  },
  {
   "cell_type": "code",
   "execution_count": null,
   "metadata": {},
   "outputs": [],
   "source": [
    "# Sorting a NumPy Array\n",
    "z = np.array([[1,4],[3,1]])\n",
    "np.sort(z)"
   ]
  },
  {
   "cell_type": "code",
   "execution_count": null,
   "metadata": {},
   "outputs": [],
   "source": []
  },
  {
   "cell_type": "markdown",
   "metadata": {},
   "source": [
    "=========="
   ]
  },
  {
   "cell_type": "markdown",
   "metadata": {},
   "source": [
    "### Scalar & Vector Math"
   ]
  },
  {
   "cell_type": "markdown",
   "metadata": {},
   "source": [
    "| Operator                \t| Description                              \t|\n",
    "|-------------------------\t|------------------------------------------\t|\n",
    "| np.add(x,y) x + y       \t| Addition                                 \t|\n",
    "| np.substract(x,y) x - y \t| Subtraction                              \t|\n",
    "| np.divide(x,y) x / y    \t| Division                                 \t|\n",
    "| np.multiply(x,y) x @ y  \t| Multiplication                           \t|\n",
    "| np.sqrt(x)              \t| Square Root                              \t|\n",
    "| np.sin(x)               \t| Element-wise sine                        \t|\n",
    "| np.cos(x)               \t| Element-wise cosine                      \t|\n",
    "| np.log(x)               \t| Element-wise natural log                 \t|\n",
    "| np.dot(x,y)             \t| Dot product                              \t|\n",
    "| np.roots([1,0,-4])      \t| Roots of a given polynomial coefficients \t|"
   ]
  },
  {
   "cell_type": "code",
   "execution_count": null,
   "metadata": {},
   "outputs": [],
   "source": [
    "a"
   ]
  },
  {
   "cell_type": "code",
   "execution_count": null,
   "metadata": {
    "scrolled": true
   },
   "outputs": [],
   "source": [
    "b"
   ]
  },
  {
   "cell_type": "code",
   "execution_count": null,
   "metadata": {},
   "outputs": [],
   "source": [
    "# Scalar addition\n",
    "np.add(a, 3)"
   ]
  },
  {
   "cell_type": "code",
   "execution_count": null,
   "metadata": {},
   "outputs": [],
   "source": [
    "# Vector addition\n",
    "np.add(a, b)"
   ]
  },
  {
   "cell_type": "code",
   "execution_count": null,
   "metadata": {},
   "outputs": [],
   "source": [
    "# Calculating the square root of all elements in the array\n",
    "np.sqrt(a)"
   ]
  },
  {
   "cell_type": "code",
   "execution_count": null,
   "metadata": {},
   "outputs": [],
   "source": [
    "# Dot-product (vector multiplication)\n",
    "np.dot(a,b)"
   ]
  },
  {
   "cell_type": "code",
   "execution_count": null,
   "metadata": {},
   "outputs": [],
   "source": [
    "# Element-wise multiplication\n",
    "a * b"
   ]
  },
  {
   "cell_type": "code",
   "execution_count": null,
   "metadata": {},
   "outputs": [],
   "source": []
  },
  {
   "cell_type": "markdown",
   "metadata": {},
   "source": [
    "=========="
   ]
  },
  {
   "cell_type": "markdown",
   "metadata": {},
   "source": [
    "### Statistics"
   ]
  },
  {
   "cell_type": "markdown",
   "metadata": {},
   "source": [
    "| Operator             \t| Description                      \t|\n",
    "|----------------------\t|----------------------------------\t|\n",
    "| np.mean(array)       \t| Mean                             \t|\n",
    "| np.median(array)     \t| Median                           \t|\n",
    "| array.corrcoef()     \t| Correlation Coefficient          \t|\n",
    "| np.std(array)        \t| Standard Deviation               \t|\n",
    "| array.sum()          \t| Array-wise sum                   \t|\n",
    "| array.min()          \t| Array-wise minimum value         \t|\n",
    "| array.max(axis=0)    \t| Maximum value of specified axis  \t|\n",
    "| array.cumsum(axis=0) \t| Cumulative sum of specified axis \t|"
   ]
  },
  {
   "cell_type": "code",
   "execution_count": null,
   "metadata": {},
   "outputs": [],
   "source": [
    "a = np.array([[2, 3], [0, 1]])"
   ]
  },
  {
   "cell_type": "code",
   "execution_count": null,
   "metadata": {},
   "outputs": [],
   "source": [
    "# Finding the minimum value of the array\n",
    "np.min(a)"
   ]
  },
  {
   "cell_type": "code",
   "execution_count": null,
   "metadata": {},
   "outputs": [],
   "source": [
    "# Finding the position of the minimum value of the array\n",
    "np.argmin(a)"
   ]
  },
  {
   "cell_type": "code",
   "execution_count": null,
   "metadata": {},
   "outputs": [],
   "source": [
    "# Finding the maximum value of each column of the array\n",
    "a.max(axis=0)"
   ]
  },
  {
   "cell_type": "code",
   "execution_count": null,
   "metadata": {},
   "outputs": [],
   "source": [
    "a = np.array([[1,2,3],[4,5,6]])"
   ]
  },
  {
   "cell_type": "code",
   "execution_count": null,
   "metadata": {},
   "outputs": [],
   "source": [
    "# Calculating the mean value of each row of the array\n",
    "a.mean(axis=1)"
   ]
  },
  {
   "cell_type": "code",
   "execution_count": null,
   "metadata": {},
   "outputs": [],
   "source": [
    "# Calculating the standard deviation value of the array with degree_of_freedom = 1\n",
    "a.std(axis=0, ddof=1)"
   ]
  },
  {
   "cell_type": "code",
   "execution_count": null,
   "metadata": {},
   "outputs": [],
   "source": [
    "# Give it a try!\n",
    "from IPython.display import Image\n",
    "Image(\"data/math.png\")"
   ]
  },
  {
   "cell_type": "markdown",
   "metadata": {},
   "source": [
    "- Compute the maximum of each row\n",
    "- Compute the mean of each column\n",
    "- The position of the overall minimum"
   ]
  },
  {
   "cell_type": "code",
   "execution_count": null,
   "metadata": {
    "scrolled": true
   },
   "outputs": [],
   "source": [
    "arr = np.arange(-15, 15).reshape(5, 6) ** 2\n",
    "arr"
   ]
  },
  {
   "cell_type": "code",
   "execution_count": null,
   "metadata": {},
   "outputs": [],
   "source": []
  },
  {
   "cell_type": "markdown",
   "metadata": {},
   "source": [
    "### Broadcasting & Typecasting"
   ]
  },
  {
   "cell_type": "code",
   "execution_count": null,
   "metadata": {},
   "outputs": [],
   "source": [
    "from IPython.display import Image\n",
    "Image(\"data/broadcast.png\")"
   ]
  },
  {
   "cell_type": "code",
   "execution_count": null,
   "metadata": {},
   "outputs": [],
   "source": [
    "arr1 = np.array([0,1,2])\n",
    "arr1"
   ]
  },
  {
   "cell_type": "code",
   "execution_count": null,
   "metadata": {},
   "outputs": [],
   "source": [
    "arr2 = np.array([[0,0,0],[10,10,10],[20,20,20],[30,30,30]])\n",
    "arr2"
   ]
  },
  {
   "cell_type": "code",
   "execution_count": null,
   "metadata": {},
   "outputs": [],
   "source": [
    "# Broadcasting & Typecasting\n",
    "np.add(arr1, arr2, dtype = np.float64)"
   ]
  },
  {
   "cell_type": "code",
   "execution_count": null,
   "metadata": {},
   "outputs": [],
   "source": [
    "# Finding the mean of each column\n",
    "np.mean(arr2, axis = 0, dtype=np.int64)"
   ]
  },
  {
   "cell_type": "code",
   "execution_count": null,
   "metadata": {},
   "outputs": [],
   "source": []
  },
  {
   "cell_type": "markdown",
   "metadata": {},
   "source": [
    "=========="
   ]
  },
  {
   "cell_type": "markdown",
   "metadata": {},
   "source": [
    "## Case-study: NumPy Data Cleaning (Missing Data)"
   ]
  },
  {
   "cell_type": "markdown",
   "metadata": {},
   "source": [
    "### Checking for Missing Values"
   ]
  },
  {
   "cell_type": "code",
   "execution_count": null,
   "metadata": {},
   "outputs": [],
   "source": [
    "import numpy as np"
   ]
  },
  {
   "cell_type": "code",
   "execution_count": null,
   "metadata": {},
   "outputs": [],
   "source": [
    "# Loading the file with no missing data \n",
    "lending_co_data_numeric = np.loadtxt(\"data/lending-company-numeric.csv\", delimiter = ',')\n",
    "lending_co_data_numeric"
   ]
  },
  {
   "cell_type": "code",
   "execution_count": null,
   "metadata": {},
   "outputs": [],
   "source": [
    "# Checking for the missing data in the file\n",
    "np.isnan(lending_co_data_numeric)"
   ]
  },
  {
   "cell_type": "code",
   "execution_count": null,
   "metadata": {},
   "outputs": [],
   "source": [
    "# Find the total sum of the missing data\n",
    "np.isnan(lending_co_data_numeric).sum()"
   ]
  },
  {
   "cell_type": "code",
   "execution_count": null,
   "metadata": {},
   "outputs": [],
   "source": [
    "# Let's load the file that containing a missing data\n",
    "lending_co_data_numeric_NAN = np.genfromtxt(\"data/lending-company-numeric-nan.csv\", delimiter = ';')\n",
    "# Note that you can't use loadtxt() when there is missing data in the file, we use genfromtxt() instead"
   ]
  },
  {
   "cell_type": "code",
   "execution_count": null,
   "metadata": {},
   "outputs": [],
   "source": [
    "# Checking for the missing data in the file\n",
    "np.isnan(lending_co_data_numeric_NAN)"
   ]
  },
  {
   "cell_type": "code",
   "execution_count": null,
   "metadata": {},
   "outputs": [],
   "source": [
    "np.isnan(lending_co_data_numeric_NAN).sum()"
   ]
  },
  {
   "cell_type": "markdown",
   "metadata": {},
   "source": [
    "### Dealing with the Missing Data, by Zero Filling"
   ]
  },
  {
   "cell_type": "code",
   "execution_count": null,
   "metadata": {},
   "outputs": [],
   "source": [
    "# How about dealing with the missing data by filling all the NaN values with 0\n",
    "lending_co_data_numeric_NAN = np.genfromtxt(\"data/lending-company-numeric-nan.csv\", \n",
    "                                            delimiter = ';',\n",
    "                                            filling_values = 0)"
   ]
  },
  {
   "cell_type": "code",
   "execution_count": null,
   "metadata": {},
   "outputs": [],
   "source": [
    "# Let's check for the missing data in the file, now it will be 0\n",
    "np.isnan(lending_co_data_numeric_NAN)"
   ]
  },
  {
   "cell_type": "code",
   "execution_count": null,
   "metadata": {},
   "outputs": [],
   "source": [
    "np.isnan(lending_co_data_numeric_NAN).sum()"
   ]
  },
  {
   "cell_type": "code",
   "execution_count": null,
   "metadata": {},
   "outputs": [],
   "source": [
    "# And here is the final version of the data after filling the missing value\n",
    "lending_co_data_numeric_NAN"
   ]
  },
  {
   "cell_type": "markdown",
   "metadata": {},
   "source": [
    "### Substituting Missing Values with Mean/Max values"
   ]
  },
  {
   "cell_type": "code",
   "execution_count": null,
   "metadata": {},
   "outputs": [],
   "source": [
    "# We need to reimport the dataset since all the missing values are filled up\n",
    "lending_co_data_numeric_NAN = np.genfromtxt(\"data/lending-company-numeric-nan.csv\", \n",
    "                                            delimiter = ';')"
   ]
  },
  {
   "cell_type": "code",
   "execution_count": null,
   "metadata": {},
   "outputs": [],
   "source": [
    "# We want a value greater than the max, since we have be certain it's unique to the dataset.\n",
    "temporary_fill = np.nanmax(lending_co_data_numeric_NAN).round(2) + 1"
   ]
  },
  {
   "cell_type": "code",
   "execution_count": null,
   "metadata": {},
   "outputs": [],
   "source": [
    "temporary_fill"
   ]
  },
  {
   "cell_type": "code",
   "execution_count": null,
   "metadata": {},
   "outputs": [],
   "source": [
    "# Filling up all the missing values with the temporary filler\n",
    "lending_co_data_numeric_NAN = np.genfromtxt(\"data/lending-company-numeric-nan.csv\", \n",
    "                                            delimiter = ';',\n",
    "                                            filling_values = temporary_fill) "
   ]
  },
  {
   "cell_type": "code",
   "execution_count": null,
   "metadata": {},
   "outputs": [],
   "source": [
    "np.isnan(lending_co_data_numeric_NAN)"
   ]
  },
  {
   "cell_type": "code",
   "execution_count": null,
   "metadata": {},
   "outputs": [],
   "source": [
    "np.isnan(lending_co_data_numeric_NAN).sum()"
   ]
  },
  {
   "cell_type": "code",
   "execution_count": null,
   "metadata": {},
   "outputs": [],
   "source": [
    "# Reimporting the dataset again\n",
    "lending_co_data_numeric_NAN = np.genfromtxt(\"data/lending-company-numeric-nan.csv\", delimiter = ';')\n",
    "lending_co_data_numeric_NAN"
   ]
  },
  {
   "cell_type": "code",
   "execution_count": null,
   "metadata": {},
   "outputs": [],
   "source": [
    "## Storing the means of every column\n",
    "temporary_mean = np.nanmean(lending_co_data_numeric_NAN, axis = 0).round(2)"
   ]
  },
  {
   "cell_type": "code",
   "execution_count": null,
   "metadata": {},
   "outputs": [],
   "source": [
    "# Find the mean of the 1st column\n",
    "temporary_mean[0]"
   ]
  },
  {
   "cell_type": "code",
   "execution_count": null,
   "metadata": {},
   "outputs": [],
   "source": [
    "## Creating a unique filler and using it to take care of all the missing values.\n",
    "temporary_fill = np.nanmax(lending_co_data_numeric_NAN).round(2) + 1\n",
    "\n",
    "lending_co_data_numeric_NAN = np.genfromtxt(\"data/lending-company-numeric-nan.csv\",\n",
    "                                            delimiter = ';',\n",
    "                                            filling_values = temporary_fill)"
   ]
  },
  {
   "cell_type": "code",
   "execution_count": null,
   "metadata": {},
   "outputs": [],
   "source": [
    "temporary_fill"
   ]
  },
  {
   "cell_type": "code",
   "execution_count": null,
   "metadata": {},
   "outputs": [],
   "source": [
    "# Supposed mean (w/ fillers)\n",
    "np.mean(lending_co_data_numeric_NAN[:,0]).round(2) "
   ]
  },
  {
   "cell_type": "code",
   "execution_count": null,
   "metadata": {},
   "outputs": [],
   "source": [
    "# Actual mean (w/0 fillers)\n",
    "temporary_mean[0]"
   ]
  },
  {
   "cell_type": "code",
   "execution_count": null,
   "metadata": {},
   "outputs": [],
   "source": [
    "# Going through the first column and substituting any temporary fillers (previously missing) with the mean for that column.\n",
    "lending_co_data_numeric_NAN[:,0] = np.where(lending_co_data_numeric_NAN[:,0] == temporary_fill,\n",
    "                                            temporary_mean[0], \n",
    "                                            lending_co_data_numeric_NAN[:,0])"
   ]
  },
  {
   "cell_type": "code",
   "execution_count": null,
   "metadata": {},
   "outputs": [],
   "source": [
    "# New mean equals old mean. \n",
    "np.mean(lending_co_data_numeric_NAN[:,0]).round(2)"
   ]
  },
  {
   "cell_type": "code",
   "execution_count": null,
   "metadata": {},
   "outputs": [],
   "source": [
    "# We're generalizing the filling from earlier and going through all the columns\n",
    "for i in range(lending_co_data_numeric_NAN.shape[1]):        \n",
    "    lending_co_data_numeric_NAN[:,i] = np.where(lending_co_data_numeric_NAN[:,i] == temporary_fill, \n",
    "                                                temporary_mean[i], \n",
    "                                                lending_co_data_numeric_NAN[:,i])"
   ]
  },
  {
   "cell_type": "code",
   "execution_count": null,
   "metadata": {},
   "outputs": [],
   "source": [
    "# We can use this approach for other applications as well (e.g. remove all negative values and set them to 0)\n",
    "for i in range(lending_co_data_numeric_NAN.shape[1]):        \n",
    "    lending_co_data_numeric_NAN[:,i] = np.where(lending_co_data_numeric_NAN[:, i] < 0,\n",
    "                                                0, \n",
    "                                                lending_co_data_numeric_NAN[:,i])"
   ]
  },
  {
   "cell_type": "code",
   "execution_count": null,
   "metadata": {},
   "outputs": [],
   "source": [
    "lending_co_data_numeric_NAN"
   ]
  },
  {
   "cell_type": "code",
   "execution_count": null,
   "metadata": {},
   "outputs": [],
   "source": []
  },
  {
   "cell_type": "markdown",
   "metadata": {},
   "source": [
    "=========="
   ]
  },
  {
   "cell_type": "markdown",
   "metadata": {},
   "source": [
    "# THANK YOU!"
   ]
  }
 ],
 "metadata": {
  "kernelspec": {
   "display_name": "Python 3",
   "language": "python",
   "name": "python3"
  },
  "language_info": {
   "codemirror_mode": {
    "name": "ipython",
    "version": 3
   },
   "file_extension": ".py",
   "mimetype": "text/x-python",
   "name": "python",
   "nbconvert_exporter": "python",
   "pygments_lexer": "ipython3",
   "version": "3.11.4"
  }
 },
 "nbformat": 4,
 "nbformat_minor": 4
}
