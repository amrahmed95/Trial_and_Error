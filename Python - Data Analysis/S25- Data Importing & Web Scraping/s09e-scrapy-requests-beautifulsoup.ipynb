{
 "cells": [
  {
   "cell_type": "markdown",
   "metadata": {},
   "source": [
    "# ADVANCED PANDAS: DATA IMPORTING & WEB SCRAPING"
   ]
  },
  {
   "cell_type": "markdown",
   "metadata": {},
   "source": [
    "Course Outline:\n",
    "- Basic Data Importing\n",
    "    - Flat Files (.csv, .tsv, .txt)\n",
    "    - Excel Files (.xlsx)\n",
    "    - Other Files (.dta, .mat, .. etc)\n",
    "- Importing Data from Relational Databases\n",
    "    - SQL Crash Course\n",
    "    - Database Files (.db, .sqlite, .. etc)\n",
    "- ***Importing Data from the Internet***\n",
    "    - Case-study: Wuzzuf.com [Web Scraping]\n",
    "    - HTML & CSS Crash Course\n",
    "    - Working with JSON Data & APIs\n",
    "    - ***Web Scraping Basics***\n",
    "        - ***XPath & CSS Selectors***\n",
    "        - ***Python Libraries for Web Scraping***"
   ]
  },
  {
   "cell_type": "code",
   "execution_count": null,
   "metadata": {},
   "outputs": [],
   "source": []
  },
  {
   "cell_type": "markdown",
   "metadata": {},
   "source": [
    "### Importing Libraries"
   ]
  },
  {
   "cell_type": "code",
   "execution_count": null,
   "metadata": {},
   "outputs": [],
   "source": [
    "import numpy as np\n",
    "import pandas as pd\n",
    "import matplotlib.pyplot as plt\n",
    "import seaborn as sns\n",
    "%matplotlib inline\n",
    "sns.set()"
   ]
  },
  {
   "cell_type": "code",
   "execution_count": null,
   "metadata": {},
   "outputs": [],
   "source": []
  },
  {
   "cell_type": "markdown",
   "metadata": {},
   "source": [
    "=========="
   ]
  },
  {
   "cell_type": "markdown",
   "metadata": {},
   "source": [
    "## Importing Data from the Internet"
   ]
  },
  {
   "cell_type": "markdown",
   "metadata": {},
   "source": [
    "- HTML & CSS Crash Course\n",
    "- Working with JSON Data & APIs\n",
    "- ***Web Scraping Basics***"
   ]
  },
  {
   "cell_type": "code",
   "execution_count": null,
   "metadata": {},
   "outputs": [],
   "source": []
  },
  {
   "cell_type": "markdown",
   "metadata": {},
   "source": [
    "=========="
   ]
  },
  {
   "cell_type": "markdown",
   "metadata": {},
   "source": [
    "## Web Scraping Basics"
   ]
  },
  {
   "cell_type": "markdown",
   "metadata": {},
   "source": [
    "- Web Scraping Fundamentals\n",
    "- XPath & CSS Selectors\n",
    "- Python Libraries for Web Scraping\n",
    "    - Requests\n",
    "    - BeautifulSoup\n",
    "    - Scrapy Basics"
   ]
  },
  {
   "cell_type": "code",
   "execution_count": null,
   "metadata": {},
   "outputs": [],
   "source": []
  },
  {
   "cell_type": "markdown",
   "metadata": {},
   "source": [
    "### Web Scraping Fundamentals"
   ]
  },
  {
   "cell_type": "code",
   "execution_count": null,
   "metadata": {},
   "outputs": [],
   "source": [
    "from IPython.display import Image\n",
    "Image(\"data/ws.jpg\")"
   ]
  },
  {
   "cell_type": "markdown",
   "metadata": {},
   "source": [
    "***Why? (Applications)***\n",
    "- Price Comparison\n",
    "- Email address gathering\n",
    "- Social Media Scraping\n",
    "- Research and Development\n",
    "- Job listings"
   ]
  },
  {
   "cell_type": "markdown",
   "metadata": {},
   "source": [
    "***Webscraping Process:***\n",
    "- Figure out the target website\n",
    "- Get the URL of the pages from which the data needs to be extracted.\n",
    "- Obtain the HTML/CSS/JS of those pages.\n",
    "- Find the locators such as XPath or CSS selectors or regex of those data which needs to be extracted.\n",
    "- Save the data in a structured format such as JSON or CSV file."
   ]
  },
  {
   "cell_type": "markdown",
   "metadata": {},
   "source": [
    "***Web Crawler vs Web Scraper***"
   ]
  },
  {
   "cell_type": "code",
   "execution_count": null,
   "metadata": {},
   "outputs": [],
   "source": [
    "from IPython.display import Image\n",
    "Image(\"data/wc-ws.png\")"
   ]
  },
  {
   "cell_type": "markdown",
   "metadata": {},
   "source": [
    "***Some files to read before scraping any site***\n",
    "- Sitemap files\n",
    "- robots.txt file"
   ]
  },
  {
   "cell_type": "markdown",
   "metadata": {},
   "source": [
    "***Python Modules/Libraries for Web Scraping***\n",
    "- Scrapy\n",
    "- BeautifulSoup\n",
    "- LXML\n",
    "- Selenium\n",
    "- Requests"
   ]
  },
  {
   "cell_type": "code",
   "execution_count": null,
   "metadata": {},
   "outputs": [],
   "source": []
  },
  {
   "cell_type": "markdown",
   "metadata": {},
   "source": [
    "=========="
   ]
  },
  {
   "cell_type": "markdown",
   "metadata": {},
   "source": [
    "### XPath & CSS Selectors\n",
    "- XPath\n",
    "- CSS Locators"
   ]
  },
  {
   "cell_type": "markdown",
   "metadata": {},
   "source": [
    "***XPath & CSS Selectors:***\n",
    "- XPath Cheat Sheet: https://devhints.io/xpath"
   ]
  },
  {
   "cell_type": "raw",
   "metadata": {},
   "source": [
    "<html>\n",
    "    <head>\n",
    "        <title> My First Web Page </title>\n",
    "    </head>\n",
    "    <body>\n",
    "        <div class = 'my_class'>\n",
    "            <p>Hello, World! </p>\n",
    "            <p> HTML is Awesome </p>\n",
    "        </div>\n",
    "        <p> Goodbye! :) </p>\n",
    "    </body>\n",
    "</html>"
   ]
  },
  {
   "cell_type": "code",
   "execution_count": null,
   "metadata": {},
   "outputs": [],
   "source": []
  },
  {
   "cell_type": "markdown",
   "metadata": {},
   "source": [
    "#### XPath"
   ]
  },
  {
   "cell_type": "markdown",
   "metadata": {},
   "source": [
    "| Expression \t| Description                                                                                           \t| Example \t| Result                                                                                                                              \t|\n",
    "|------------\t|-------------------------------------------------------------------------------------------------------\t|-----------------\t|-------------------------------------------------------------------------------------------------------------------------------------\t|\n",
    "| nodename   \t| Selects all nodes with the name \"nodename\"                                                            \t| bookstore       \t| Selects all nodes with the name \"bookstore\"                                                                                         \t|\n",
    "| /          \t| Selects from the root node                                                                            \t| /bookstore      \t| Selects the root element bookstore Note: If the path starts with a slash ( / ) it always represents an absolute path to an element! \t|\n",
    "| //         \t| Selects nodes in the document from the current node that match the selection no matter where they are \t| bookstore/book  \t| Selects all book elements that are children of bookstore                                                                            \t|\n",
    "| .          \t| Selects the current node                                                                              \t| //book          \t| Selects all book elements no matter where they are in the document                                                                  \t|\n",
    "| ..         \t| Selects the parent of the current node                                                                \t| bookstore//book \t| Selects all book elements that are descendant of the bookstore element, no matter where they are under the bookstore element        \t|\n",
    "| @          \t| Selects attributes                                                                                    \t| //@lang         \t| Selects all attributes that are named lang                                                                                          \t|"
   ]
  },
  {
   "cell_type": "code",
   "execution_count": null,
   "metadata": {},
   "outputs": [],
   "source": [
    "# Can you understand this simple code?\n",
    "xpath = '/html/body/div[1]//table'"
   ]
  },
  {
   "cell_type": "code",
   "execution_count": null,
   "metadata": {},
   "outputs": [],
   "source": [
    "xpath = '/html/body/div'"
   ]
  },
  {
   "cell_type": "code",
   "execution_count": null,
   "metadata": {},
   "outputs": [],
   "source": [
    "xpath = '//p'   # Select all P elements"
   ]
  },
  {
   "cell_type": "code",
   "execution_count": null,
   "metadata": {},
   "outputs": [],
   "source": [
    "xpath = '//table[2]'   # Select all table elements and get the second one"
   ]
  },
  {
   "cell_type": "code",
   "execution_count": null,
   "metadata": {},
   "outputs": [],
   "source": [
    "xpath = '//table/img'   # Select all img elements in a table"
   ]
  },
  {
   "cell_type": "code",
   "execution_count": null,
   "metadata": {},
   "outputs": [],
   "source": [
    "xpath = '//p.text()'   # Select all text elements in a p tag in a list"
   ]
  },
  {
   "cell_type": "code",
   "execution_count": null,
   "metadata": {},
   "outputs": [],
   "source": [
    "xpath = '/html/body/div[@class = \"my_class\"]'"
   ]
  },
  {
   "cell_type": "code",
   "execution_count": null,
   "metadata": {},
   "outputs": [],
   "source": []
  },
  {
   "cell_type": "markdown",
   "metadata": {},
   "source": [
    "#### CSS Locators"
   ]
  },
  {
   "cell_type": "code",
   "execution_count": null,
   "metadata": {},
   "outputs": [],
   "source": [
    "# Can you see any similarity here?\n",
    "xpath = '/html/body/div'\n",
    "css_locator = 'html > body > div'"
   ]
  },
  {
   "cell_type": "code",
   "execution_count": null,
   "metadata": {},
   "outputs": [],
   "source": [
    "xpath = '/html/body//div/p[2]'\n",
    "css_locator = 'html > body > div > p[2]'"
   ]
  },
  {
   "cell_type": "code",
   "execution_count": null,
   "metadata": {},
   "outputs": [],
   "source": [
    "css_selector = 'html > body > div > p:nth-child(2)'\n",
    "css_selector = 'title::text'\n"
   ]
  },
  {
   "cell_type": "code",
   "execution_count": null,
   "metadata": {},
   "outputs": [],
   "source": [
    "xpath = '//p.text()'   # Select all text elements in a p tag in a list\n",
    "css_selector = 'p::text'"
   ]
  },
  {
   "cell_type": "markdown",
   "metadata": {},
   "source": [
    "=========="
   ]
  },
  {
   "cell_type": "markdown",
   "metadata": {},
   "source": [
    "## Python Libraries for Web Scraping"
   ]
  },
  {
   "cell_type": "markdown",
   "metadata": {},
   "source": [
    "- Scrapy Basics\n",
    "- Requests\n",
    "- BeautifulSoup"
   ]
  },
  {
   "cell_type": "markdown",
   "metadata": {},
   "source": [
    "### Scrapy"
   ]
  },
  {
   "cell_type": "code",
   "execution_count": null,
   "metadata": {},
   "outputs": [],
   "source": [
    "# pip install Scrapy"
   ]
  },
  {
   "cell_type": "code",
   "execution_count": null,
   "metadata": {},
   "outputs": [],
   "source": [
    "from scrapy import Selector"
   ]
  },
  {
   "cell_type": "markdown",
   "metadata": {},
   "source": [
    "#### Selectors"
   ]
  },
  {
   "cell_type": "code",
   "execution_count": null,
   "metadata": {},
   "outputs": [],
   "source": [
    "html = '''\n",
    "    <html>\n",
    "        <head>\n",
    "            <title> My First Web Page </title>\n",
    "        </head>\n",
    "        <body>\n",
    "            <div class = 'my_class>\n",
    "                <p>Hello, World! </p>\n",
    "                <p> HTML is Awesome </p>\n",
    "            </div>\n",
    "            <p> Goodbye! :) </p>\n",
    "        </body>\n",
    "    </html>\n",
    "'''"
   ]
  },
  {
   "cell_type": "code",
   "execution_count": null,
   "metadata": {},
   "outputs": [],
   "source": [
    "sel = Selector(text = html)"
   ]
  },
  {
   "cell_type": "markdown",
   "metadata": {},
   "source": [
    "##### Using XPath"
   ]
  },
  {
   "cell_type": "code",
   "execution_count": null,
   "metadata": {},
   "outputs": [],
   "source": [
    "sel.xpath('//p')"
   ]
  },
  {
   "cell_type": "code",
   "execution_count": null,
   "metadata": {},
   "outputs": [],
   "source": [
    "sel.xpath('/html/body/div/p[2]').get()              # ' HTML is Awesome '"
   ]
  },
  {
   "cell_type": "code",
   "execution_count": null,
   "metadata": {},
   "outputs": [],
   "source": [
    "sel.xpath('/html/body/div/p[2]/text()').extract()   # [' HTML is Awesome ']"
   ]
  },
  {
   "cell_type": "code",
   "execution_count": null,
   "metadata": {},
   "outputs": [],
   "source": [
    "sel.xpath('/html/head/title').extract()     # <title> My First Web Page </title>"
   ]
  },
  {
   "cell_type": "code",
   "execution_count": null,
   "metadata": {},
   "outputs": [],
   "source": [
    "sel.xpath('/html').xpath('./body/div/p[1]')\n",
    "# sel.xpath('/html/body/div/p[1]')"
   ]
  },
  {
   "cell_type": "code",
   "execution_count": null,
   "metadata": {},
   "outputs": [],
   "source": []
  },
  {
   "cell_type": "markdown",
   "metadata": {},
   "source": [
    "##### Using CSS Locators"
   ]
  },
  {
   "cell_type": "code",
   "execution_count": null,
   "metadata": {},
   "outputs": [],
   "source": [
    "sel.css(\"div > p\")"
   ]
  },
  {
   "cell_type": "code",
   "execution_count": null,
   "metadata": {},
   "outputs": [],
   "source": [
    "sel.css(\"div > p\").extract()"
   ]
  },
  {
   "cell_type": "code",
   "execution_count": null,
   "metadata": {},
   "outputs": [],
   "source": [
    "sel.css(\"title\")[0].get()"
   ]
  },
  {
   "cell_type": "code",
   "execution_count": null,
   "metadata": {},
   "outputs": [],
   "source": [
    "sel.css(\"title::text\")[0].get()"
   ]
  },
  {
   "cell_type": "code",
   "execution_count": null,
   "metadata": {},
   "outputs": [],
   "source": []
  },
  {
   "cell_type": "markdown",
   "metadata": {},
   "source": [
    "##### Using Scrapy Shell"
   ]
  },
  {
   "cell_type": "markdown",
   "metadata": {},
   "source": [
    "- Getting Web Data\n",
    "\n",
    "\n",
    "    - Open Anaconda Prompet\n",
    "\n",
    "    - Let's open the scrapy debugger\n",
    "            - scrapy shell\n",
    "    \n",
    "    - Now, let's fetch a specific URL\n",
    "            - fetch(\"https://wuzzuf.net/search/jobs/?q=illustrator&a=hpb\")\n",
    "            \n",
    "    - How about viewing this fetched data?!\n",
    "            - view(response)\n",
    "\n",
    "\n",
    "- Parsing HTML\n",
    "\n",
    "\n",
    "    - Using css selectors to select the title of the page\n",
    "            - response.css(\"title\")\n",
    "            - response.css(\"title::text\")\n",
    "            - response.css(\"title::text\")[0].get()\n",
    "            - response.css(\"title::text\").get()\n",
    "            - response.css(\"title::text\").getall()\n",
    "            \n",
    "\n",
    "- Scrapy Project\n",
    "\n",
    "\n",
    "    - Start a new project in scrapy, after entering the prefered folder\n",
    "            - cd C:\\Users\\musta\\OneDrive\\Desktop\n",
    "            - scrapy startproject wuzzuf\n",
    "    \n",
    "    - Go to the spider directory\n",
    "            - cd wuzzuf\n",
    "            - cd spiders\n",
    "            \n",
    "    - Create a spider for crawling\n",
    "            - scrapy genspider jobs wuzzuf.net/search/jobs/?q=illustrator&a=hpb\n",
    "              \n",
    "    - Let's define a parse() function in the spider python file that parse our web page\n",
    "            - def parse(self, response):\n",
    "                print(\"\\n\")\n",
    "                print(\"HTTP STATUS: \"+str(response.status))\n",
    "                print(response.css(\"title::text\").get())\n",
    "                print(\"\\n\")\n",
    "                         \n",
    "    - Test the crawler\n",
    "            - scrapy crawl jobs\n",
    "            \n",
    "            \n",
    "    - Inspecting a specific element in the web page\n",
    "            - job_titles = response.css(\"h2.css-m604qf\")\n",
    "            - job_titles[0]\n",
    "            \n",
    "    - Complete the process as you have already learnt in 'Wuzzuf' BeautifulSoup Case-study"
   ]
  },
  {
   "cell_type": "code",
   "execution_count": null,
   "metadata": {},
   "outputs": [],
   "source": []
  },
  {
   "cell_type": "markdown",
   "metadata": {},
   "source": [
    "### Requests"
   ]
  },
  {
   "cell_type": "code",
   "execution_count": null,
   "metadata": {},
   "outputs": [],
   "source": [
    "import requests as rq"
   ]
  },
  {
   "cell_type": "code",
   "execution_count": null,
   "metadata": {},
   "outputs": [],
   "source": [
    "url = 'https://en.wikipedia.org/wiki/Aamir_Khan_filmography'"
   ]
  },
  {
   "cell_type": "code",
   "execution_count": null,
   "metadata": {},
   "outputs": [],
   "source": [
    "html = rq.get(url).content"
   ]
  },
  {
   "cell_type": "code",
   "execution_count": null,
   "metadata": {},
   "outputs": [],
   "source": [
    "html"
   ]
  },
  {
   "cell_type": "code",
   "execution_count": null,
   "metadata": {},
   "outputs": [],
   "source": []
  },
  {
   "cell_type": "markdown",
   "metadata": {},
   "source": [
    "##### Using Scrapy Selectors for Parsing"
   ]
  },
  {
   "cell_type": "code",
   "execution_count": null,
   "metadata": {},
   "outputs": [],
   "source": [
    "sel = Selector(text=html)"
   ]
  },
  {
   "cell_type": "code",
   "execution_count": null,
   "metadata": {},
   "outputs": [],
   "source": [
    "sel.xpath('//table').extract()"
   ]
  },
  {
   "cell_type": "code",
   "execution_count": null,
   "metadata": {},
   "outputs": [],
   "source": []
  },
  {
   "cell_type": "markdown",
   "metadata": {},
   "source": [
    "### BeautifulSoup"
   ]
  },
  {
   "cell_type": "code",
   "execution_count": null,
   "metadata": {},
   "outputs": [],
   "source": [
    "from bs4 import BeautifulSoup\n",
    "import requests\n",
    "\n",
    "url = 'https://simple.wikipedia.org/wiki/Computer_science'\n",
    "response = requests.get(url)\n",
    "html_doc = response.text\n",
    "soup = BeautifulSoup(html_doc)"
   ]
  },
  {
   "cell_type": "code",
   "execution_count": null,
   "metadata": {},
   "outputs": [],
   "source": [
    "# Prettified Soup\n",
    "soup.prettify()"
   ]
  },
  {
   "cell_type": "code",
   "execution_count": null,
   "metadata": {},
   "outputs": [],
   "source": [
    "# Exploring Beautiful Soup\n",
    "soup.get_text()"
   ]
  },
  {
   "cell_type": "code",
   "execution_count": null,
   "metadata": {},
   "outputs": [],
   "source": [
    "for link in soup.find_all('a'):\n",
    "    print(link.get('href'))"
   ]
  },
  {
   "cell_type": "code",
   "execution_count": null,
   "metadata": {},
   "outputs": [],
   "source": []
  },
  {
   "cell_type": "markdown",
   "metadata": {},
   "source": [
    "=========="
   ]
  },
  {
   "cell_type": "markdown",
   "metadata": {},
   "source": [
    "# THANK YOU!"
   ]
  }
 ],
 "metadata": {
  "kernelspec": {
   "display_name": "Python 3",
   "language": "python",
   "name": "python3"
  },
  "language_info": {
   "codemirror_mode": {
    "name": "ipython",
    "version": 3
   },
   "file_extension": ".py",
   "mimetype": "text/x-python",
   "name": "python",
   "nbconvert_exporter": "python",
   "pygments_lexer": "ipython3",
   "version": "3.8.3"
  }
 },
 "nbformat": 4,
 "nbformat_minor": 4
}
