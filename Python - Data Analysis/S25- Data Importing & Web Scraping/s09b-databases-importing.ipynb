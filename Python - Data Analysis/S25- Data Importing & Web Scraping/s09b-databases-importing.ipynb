{
 "cells": [
  {
   "cell_type": "markdown",
   "metadata": {},
   "source": [
    "# ADVANCED PANDAS: DATA IMPORTING & WEB SCRAPING"
   ]
  },
  {
   "cell_type": "markdown",
   "metadata": {},
   "source": [
    "Course Outline:\n",
    "- Basic Data Importing\n",
    "    - Flat Files (.csv, .tsv, .txt)\n",
    "    - Excel Files (.xlsx)\n",
    "    - Other Files (.dta, .mat, .. etc)\n",
    "    - Basic Data Importing Exercises\n",
    "- ***Importing Data from Databases***\n",
    "    - ***SQL Crash Course***\n",
    "    - ***Database Files (.db, .sqlite, .. etc)***\n",
    "    - ***Case-study: Chinook Database***\n",
    "- Importing Data from the Internet\n",
    "    - HTML & CSS Crash Course\n",
    "    - Web Scraping Basics\n",
    "    - Working with JSON Data & APIs\n",
    "    - Case-study: Wuzzuf.com [Web Scraping]"
   ]
  },
  {
   "cell_type": "code",
   "execution_count": null,
   "metadata": {},
   "outputs": [],
   "source": []
  },
  {
   "cell_type": "markdown",
   "metadata": {},
   "source": [
    "### Importing Libraries"
   ]
  },
  {
   "cell_type": "code",
   "execution_count": null,
   "metadata": {},
   "outputs": [],
   "source": [
    "import numpy as np\n",
    "import pandas as pd\n",
    "import matplotlib.pyplot as plt\n",
    "import seaborn as sns\n",
    "%matplotlib inline\n",
    "sns.set()"
   ]
  },
  {
   "cell_type": "code",
   "execution_count": null,
   "metadata": {},
   "outputs": [],
   "source": []
  },
  {
   "cell_type": "markdown",
   "metadata": {},
   "source": [
    "=========="
   ]
  },
  {
   "cell_type": "markdown",
   "metadata": {},
   "source": [
    "## Importing Data from Databases"
   ]
  },
  {
   "cell_type": "markdown",
   "metadata": {},
   "source": [
    "- Relational Databases Basics\n",
    "    - Spreadsheets vs Databases\n",
    "        - Excel vs. Access (Demo)\n",
    "    - Common Relational Databases\n",
    "- SQL Crash Course\n",
    "- Importing Database Files in Pandas"
   ]
  },
  {
   "cell_type": "code",
   "execution_count": null,
   "metadata": {},
   "outputs": [],
   "source": []
  },
  {
   "cell_type": "markdown",
   "metadata": {},
   "source": [
    "### SQL Crash Course"
   ]
  },
  {
   "cell_type": "markdown",
   "metadata": {},
   "source": [
    "- SQL Tutorial: \n",
    "    - https://www.w3schools.com/sql/\n",
    "    - https://www.sololearn.com/learning/1060\n",
    "\n",
    "\n",
    "- SQL Online IDEs: \n",
    "    - https://sqliteonline.com/\n",
    "    - http://sqlfiddle.com/"
   ]
  },
  {
   "cell_type": "code",
   "execution_count": null,
   "metadata": {},
   "outputs": [],
   "source": []
  },
  {
   "cell_type": "markdown",
   "metadata": {},
   "source": [
    "#### Pandas vs SQL (Demo)"
   ]
  },
  {
   "cell_type": "code",
   "execution_count": null,
   "metadata": {},
   "outputs": [],
   "source": [
    "df = pd.read_excel('data/students.xlsx')\n",
    "df"
   ]
  },
  {
   "cell_type": "code",
   "execution_count": null,
   "metadata": {},
   "outputs": [],
   "source": [
    "df.info()"
   ]
  },
  {
   "cell_type": "markdown",
   "metadata": {},
   "source": [
    "###### *selecting the column 'first_name' from students table*"
   ]
  },
  {
   "cell_type": "code",
   "execution_count": null,
   "metadata": {},
   "outputs": [],
   "source": [
    "# SQL Syntax\n",
    "''' SELECT first_name\n",
    "FROM students\n",
    "'''"
   ]
  },
  {
   "cell_type": "code",
   "execution_count": null,
   "metadata": {},
   "outputs": [],
   "source": [
    "# Pandas Syntax\n",
    "df['first_name']"
   ]
  },
  {
   "cell_type": "markdown",
   "metadata": {},
   "source": [
    "###### selecting all columns from students table"
   ]
  },
  {
   "cell_type": "code",
   "execution_count": null,
   "metadata": {},
   "outputs": [],
   "source": [
    "# SQL Syntax\n",
    "''' SELECT *\n",
    "FROM students\n",
    "'''"
   ]
  },
  {
   "cell_type": "code",
   "execution_count": null,
   "metadata": {},
   "outputs": [],
   "source": [
    "# Pandas Syntax\n",
    "df"
   ]
  },
  {
   "cell_type": "markdown",
   "metadata": {},
   "source": [
    "###### let's select all Egyptian students"
   ]
  },
  {
   "cell_type": "code",
   "execution_count": null,
   "metadata": {},
   "outputs": [],
   "source": [
    "# SQL Syntax\n",
    "''' SELECT *\n",
    "FROM students\n",
    "'''"
   ]
  },
  {
   "cell_type": "code",
   "execution_count": null,
   "metadata": {},
   "outputs": [],
   "source": [
    "# Pandas Syntax\n",
    "df"
   ]
  },
  {
   "cell_type": "markdown",
   "metadata": {},
   "source": [
    "###### selecting all names which start with 'M' letter"
   ]
  },
  {
   "cell_type": "code",
   "execution_count": null,
   "metadata": {},
   "outputs": [],
   "source": [
    "# SQL Syntax\n",
    "''' SELECT *\n",
    "FROM  students\n",
    "WHERE first_name LIKE 'M%'\n",
    "'''"
   ]
  },
  {
   "cell_type": "code",
   "execution_count": null,
   "metadata": {},
   "outputs": [],
   "source": [
    "# Pandas Syntax\n",
    "df[df['first_name'].str.startswith('M')]"
   ]
  },
  {
   "cell_type": "markdown",
   "metadata": {},
   "source": [
    "##### finding the students whose ages are between 17 and 30 years old"
   ]
  },
  {
   "cell_type": "code",
   "execution_count": null,
   "metadata": {},
   "outputs": [],
   "source": [
    "# SQL Syntax\n",
    "''' SELECT *\n",
    "FROM  students\n",
    "WHERE age BETWEEN 17 AND 30\n",
    "'''"
   ]
  },
  {
   "cell_type": "code",
   "execution_count": null,
   "metadata": {},
   "outputs": [],
   "source": [
    "# Pandas Syntax\n",
    "df[(df.age >= 17) & (df.age <= 30)]"
   ]
  },
  {
   "cell_type": "markdown",
   "metadata": {},
   "source": [
    "##### finding the students whose topic are Data Science and Data Analysis"
   ]
  },
  {
   "cell_type": "code",
   "execution_count": null,
   "metadata": {},
   "outputs": [],
   "source": [
    "# SQL Syntax\n",
    "''' SELECT *\n",
    "FROM  students\n",
    "WHERE topic IN ('Data science', 'Data Analysis' )\n",
    "'''"
   ]
  },
  {
   "cell_type": "code",
   "execution_count": null,
   "metadata": {},
   "outputs": [],
   "source": [
    "# Pandas Syntax\n",
    "df[(df.topic == 'Data science') & (df.topic == 'Data Analysis')]"
   ]
  },
  {
   "cell_type": "markdown",
   "metadata": {},
   "source": [
    "##### sorting the students by their grades in descending order"
   ]
  },
  {
   "cell_type": "code",
   "execution_count": null,
   "metadata": {},
   "outputs": [],
   "source": [
    "# SQL Syntax\n",
    "''' SELECT *\n",
    "FROM  students\n",
    "ORDER BY grade DESC\n",
    "'''"
   ]
  },
  {
   "cell_type": "code",
   "execution_count": null,
   "metadata": {},
   "outputs": [],
   "source": [
    "# Pandas Syntax\n",
    "df.sort_values(by=df['grade'], ascending=False)"
   ]
  },
  {
   "cell_type": "markdown",
   "metadata": {},
   "source": [
    "##### select all topics without duplication"
   ]
  },
  {
   "cell_type": "code",
   "execution_count": null,
   "metadata": {},
   "outputs": [],
   "source": [
    "# SQL Syntax\n",
    "''' SELECT DISTINCT topic\n",
    "from students\n",
    "'''"
   ]
  },
  {
   "cell_type": "code",
   "execution_count": null,
   "metadata": {},
   "outputs": [],
   "source": [
    "# Pandas Syntax\n",
    "df['topic'].value_counts()\n",
    "df['topic'].unique()\n",
    "# df[df['topic'].duplicated(keep='last')]"
   ]
  },
  {
   "cell_type": "code",
   "execution_count": null,
   "metadata": {},
   "outputs": [],
   "source": []
  },
  {
   "cell_type": "markdown",
   "metadata": {},
   "source": [
    "##### Creating a Database from Scratch (Optional)"
   ]
  },
  {
   "cell_type": "code",
   "execution_count": null,
   "metadata": {
    "scrolled": true
   },
   "outputs": [],
   "source": [
    "# creating a SQLite database\n",
    "import sqlite3\n",
    "\n",
    "# an sql-query to create a database\n",
    "query = '''\n",
    "        CREATE TABLE students\n",
    "        (a VARCHAR(20), b VARCHAR(20),\n",
    "        c REAL, d INTEGER\n",
    "        );\n",
    "    '''\n",
    "\n",
    "# create a new connection \n",
    "con = sqlite3.connect('data.sqlite')\n",
    "\n",
    "# execute the qurey \n",
    "con.execute(query)\n",
    "con.commit()\n",
    "\n",
    "# insert new data to the table\n",
    "new_query = \"INSERT INTO students VALUES('Mustafa', 'Othman', 33.5, 6)\"\n",
    "\n",
    "con.execute(new_query)\n",
    "con.commit()\n",
    "\n",
    "# listing the new data\n",
    "cursor = con.execute('SELECT * FROM students')\n",
    "rows = cursor.fetchall()\n",
    "rows\n",
    "\n",
    "# converting the results to a DataFrame\n",
    "pd.DataFrame(rows, columns=[x[0] for x in cursor.description])"
   ]
  },
  {
   "cell_type": "code",
   "execution_count": null,
   "metadata": {},
   "outputs": [],
   "source": []
  },
  {
   "cell_type": "markdown",
   "metadata": {},
   "source": [
    "##### Getting Data from a Database"
   ]
  },
  {
   "cell_type": "code",
   "execution_count": null,
   "metadata": {
    "scrolled": true
   },
   "outputs": [],
   "source": [
    "# Load sqlalchemy's create_engine\n",
    "from sqlalchemy import create_engine\n",
    "\n",
    "# Create database engine to manage connections\n",
    "engine = create_engine(\"sqlite:///data/data.db\")\n",
    "\n",
    "# Getting tables names\n",
    "table_names = engine.table_names()\n",
    "table_names"
   ]
  },
  {
   "cell_type": "code",
   "execution_count": null,
   "metadata": {},
   "outputs": [],
   "source": [
    "# Load entire weather table by table name\n",
    "weather = pd.read_sql(\"weather\", engine)\n",
    "weather.head()"
   ]
  },
  {
   "cell_type": "code",
   "execution_count": null,
   "metadata": {},
   "outputs": [],
   "source": []
  },
  {
   "cell_type": "markdown",
   "metadata": {},
   "source": [
    "##### Your First SQL Query"
   ]
  },
  {
   "cell_type": "code",
   "execution_count": null,
   "metadata": {},
   "outputs": [],
   "source": [
    "# Load entire weather table with SQL\n",
    "weather = pd.read_sql(\"SELECT * FROM weather\", engine)\n",
    "weather.head()"
   ]
  },
  {
   "cell_type": "code",
   "execution_count": null,
   "metadata": {},
   "outputs": [],
   "source": [
    "# Write query to get records from Brooklyn\n",
    "query = \"\"\"\n",
    "            SELECT *\n",
    "            FROM hpd311calls\n",
    "            WHERE borough = 'BROOKLYN';\n",
    "        \"\"\"\n",
    "\n",
    "# Query the database\n",
    "brooklyn_calls = pd.read_sql(query, engine)\n",
    "brooklyn_calls.head()"
   ]
  },
  {
   "cell_type": "code",
   "execution_count": null,
   "metadata": {},
   "outputs": [],
   "source": [
    "# Write query to get records about plumbing in the Bronx\n",
    "and_query = \"\"\"\n",
    "                SELECT *\n",
    "                FROM hpd311calls\n",
    "                WHERE borough = 'BRONX' AND complaint_type = 'PLUMBING';\n",
    "                \"\"\"\n",
    "\n",
    "# Get calls about plumbing issues in the Bronx\n",
    "bx_plumbing_calls = pd.read_sql(and_query, engine)\n",
    "bx_plumbing_calls.head()"
   ]
  },
  {
   "cell_type": "code",
   "execution_count": null,
   "metadata": {},
   "outputs": [],
   "source": []
  },
  {
   "cell_type": "markdown",
   "metadata": {},
   "source": [
    "##### Grouping & Aggregation"
   ]
  },
  {
   "cell_type": "code",
   "execution_count": null,
   "metadata": {},
   "outputs": [],
   "source": [
    "# Write query to get plumbing call counts by borough\n",
    "query = \"\"\"\n",
    "            SELECT borough, COUNT(*)\n",
    "            FROM hpd311calls\n",
    "            WHERE complaint_type = 'PLUMBING'\n",
    "            GROUP BY borough;\n",
    "            \"\"\"\n",
    "\n",
    "# Query the database and create a dataframe\n",
    "plumbing_call_counts = pd.read_sql(query, engine)\n",
    "plumbing_call_counts"
   ]
  },
  {
   "cell_type": "code",
   "execution_count": null,
   "metadata": {},
   "outputs": [],
   "source": []
  },
  {
   "cell_type": "markdown",
   "metadata": {},
   "source": [
    "##### Loading Multiple Tables with joins"
   ]
  },
  {
   "cell_type": "code",
   "execution_count": null,
   "metadata": {},
   "outputs": [],
   "source": [
    "# Get call counts by borough and join in population and housing counts\n",
    "query = \"\"\"\n",
    "            SELECT hpd311calls.borough,\n",
    "            COUNT(*),\n",
    "            boro_census.total_population,\n",
    "            boro_census.housing_units\n",
    "            FROM hpd311calls\n",
    "            JOIN boro_census\n",
    "            ON hpd311calls.borough = boro_census.borough\n",
    "            GROUP BY hpd311calls.borough;\n",
    "            \"\"\"\n",
    "\n",
    "# Query the database and create a dataframe\n",
    "call_counts = pd.read_sql(query, engine)\n",
    "call_counts"
   ]
  },
  {
   "cell_type": "code",
   "execution_count": null,
   "metadata": {},
   "outputs": [],
   "source": []
  },
  {
   "cell_type": "markdown",
   "metadata": {},
   "source": [
    "=========="
   ]
  },
  {
   "cell_type": "markdown",
   "metadata": {},
   "source": [
    "## Case-study: Chinook Database"
   ]
  },
  {
   "cell_type": "code",
   "execution_count": null,
   "metadata": {},
   "outputs": [],
   "source": [
    "from IPython.display import Image\n",
    "Image(\"data/chinook-erd.png\")"
   ]
  },
  {
   "cell_type": "code",
   "execution_count": null,
   "metadata": {},
   "outputs": [],
   "source": []
  },
  {
   "cell_type": "markdown",
   "metadata": {},
   "source": [
    "##### Importing Libraries & Database"
   ]
  },
  {
   "cell_type": "code",
   "execution_count": null,
   "metadata": {},
   "outputs": [],
   "source": [
    "# Load sqlalchemy's create_engine\n",
    "from sqlalchemy import create_engine\n",
    "\n",
    "# Create database engine to manage connections\n",
    "engine = create_engine(\"sqlite:///data/chinook.sqlite\")"
   ]
  },
  {
   "cell_type": "code",
   "execution_count": null,
   "metadata": {},
   "outputs": [],
   "source": [
    "# Getting tables names\n",
    "table_names = engine.table_names()\n",
    "table_names"
   ]
  },
  {
   "cell_type": "code",
   "execution_count": null,
   "metadata": {},
   "outputs": [],
   "source": [
    "# Load entire 'Album' table\n",
    "album = pd.read_sql(\"Album\", engine)\n",
    "album.head()"
   ]
  },
  {
   "cell_type": "code",
   "execution_count": null,
   "metadata": {},
   "outputs": [],
   "source": [
    "# Another way to get the entire 'Album' table\n",
    "pd.read_sql_table(\"Album\", engine).head()"
   ]
  },
  {
   "cell_type": "code",
   "execution_count": null,
   "metadata": {},
   "outputs": [],
   "source": []
  },
  {
   "cell_type": "markdown",
   "metadata": {},
   "source": [
    "##### Provide a query showing Customers (just their full names, customer ID and country) who are not in the US.\n"
   ]
  },
  {
   "cell_type": "code",
   "execution_count": null,
   "metadata": {},
   "outputs": [],
   "source": [
    "# Write query to get the specified customers' info\n",
    "query = '''\n",
    "select customerid, firstname, lastname, country\n",
    "from customer\n",
    "where not country = 'USA';\n",
    "'''\n",
    "\n",
    "'''\n",
    "select customerid, firstname, lastname, country\n",
    "from customer\n",
    "where country != 'USA';\n",
    "'''\n",
    "\n",
    "'''\n",
    "select customerid, firstname, lastname, country\n",
    "from customer\n",
    "where country <> 'USA';\n",
    "'''"
   ]
  },
  {
   "cell_type": "code",
   "execution_count": null,
   "metadata": {},
   "outputs": [],
   "source": [
    "pd.read_sql(query, engine).head()"
   ]
  },
  {
   "cell_type": "code",
   "execution_count": null,
   "metadata": {},
   "outputs": [],
   "source": []
  },
  {
   "cell_type": "markdown",
   "metadata": {},
   "source": [
    "##### Provide a query only showing the Customers from Brazil."
   ]
  },
  {
   "cell_type": "code",
   "execution_count": null,
   "metadata": {},
   "outputs": [],
   "source": [
    "# Let's use 'pd.read_sql_query' method for simplicity\n",
    "pd.read_sql_query(\"select * from customer where country = 'Brazil';\", engine)"
   ]
  },
  {
   "cell_type": "code",
   "execution_count": null,
   "metadata": {},
   "outputs": [],
   "source": []
  },
  {
   "cell_type": "markdown",
   "metadata": {},
   "source": [
    "##### Provide a query showing the Invoices of customers who are from Brazil. The resultant table should show the customer's full name, Invoice ID, Date of the invoice and billing country."
   ]
  },
  {
   "cell_type": "code",
   "execution_count": null,
   "metadata": {
    "scrolled": true
   },
   "outputs": [],
   "source": [
    "query = '''\n",
    "select c.firstname, c.lastname, i.invoiceid, i.invoicedate, i.billingcountry\n",
    "from customer AS c, invoice AS i\n",
    "where c.country = 'Brazil' and\n",
    "c.customerid = i.customerid;\n",
    "'''\n",
    "pd.read_sql(query, engine).head()\n"
   ]
  },
  {
   "cell_type": "code",
   "execution_count": null,
   "metadata": {},
   "outputs": [],
   "source": []
  },
  {
   "cell_type": "markdown",
   "metadata": {},
   "source": [
    "##### Provide a query showing only the Employees who are Sales Agents."
   ]
  },
  {
   "cell_type": "code",
   "execution_count": null,
   "metadata": {},
   "outputs": [],
   "source": [
    "pd.read_sql(\"select * from employee where employee.title = 'Sales Support Agent';\", engine)"
   ]
  },
  {
   "cell_type": "code",
   "execution_count": null,
   "metadata": {},
   "outputs": [],
   "source": []
  },
  {
   "cell_type": "markdown",
   "metadata": {},
   "source": [
    "##### Provide a query showing a unique list of billing countries from the Invoice table."
   ]
  },
  {
   "cell_type": "code",
   "execution_count": null,
   "metadata": {},
   "outputs": [],
   "source": [
    "pd.read_sql_query(\"select distinct billingcountry from invoice;\", engine)"
   ]
  },
  {
   "cell_type": "code",
   "execution_count": null,
   "metadata": {},
   "outputs": [],
   "source": []
  },
  {
   "cell_type": "markdown",
   "metadata": {},
   "source": [
    "##### Provide a query showing the invoices of customers who are from Brazil."
   ]
  },
  {
   "cell_type": "code",
   "execution_count": null,
   "metadata": {},
   "outputs": [],
   "source": [
    "query = ''' \n",
    "select *\n",
    "from customer as c, invoice as i\n",
    "where c.country = 'Brazil' and\n",
    "c.customerid = i.customerid;\n",
    "'''\n",
    "\n",
    "pd.read_sql(query, engine).head()"
   ]
  },
  {
   "cell_type": "code",
   "execution_count": null,
   "metadata": {},
   "outputs": [],
   "source": []
  },
  {
   "cell_type": "markdown",
   "metadata": {},
   "source": [
    "##### Provide a query that shows the invoices associated with each sales agent. The result table should include the Sales Agent's full name."
   ]
  },
  {
   "cell_type": "code",
   "execution_count": null,
   "metadata": {},
   "outputs": [],
   "source": [
    "query = '''\n",
    "select e.firstname, e.lastname, i.invoiceid, i.customerid, i.invoicedate, i.billingaddress, i.billingcountry, i.billingpostalcode, i.total\n",
    "from customer as c, invoice as i\n",
    "on c.customerid = i.customerid\n",
    "join employee as e\n",
    "on e.employeeid = c.supportrepid\n",
    "order by e.employeeid;\n",
    "'''\n",
    "\n",
    "pd.read_sql(query, engine).head()"
   ]
  },
  {
   "cell_type": "code",
   "execution_count": null,
   "metadata": {},
   "outputs": [],
   "source": []
  },
  {
   "cell_type": "markdown",
   "metadata": {},
   "source": [
    "##### Provide a query that shows the Invoice Total, Customer name, Country and Sale Agent name for all invoices and customers."
   ]
  },
  {
   "cell_type": "code",
   "execution_count": null,
   "metadata": {},
   "outputs": [],
   "source": [
    "query = '''\n",
    "select e.firstname as 'employee first', e.lastname as 'employee last', c.firstname as 'customer first', c.lastname as 'customer last', c.country, i.total\n",
    "from employee as e\n",
    "join customer as c on e.employeeid = c.supportrepid\n",
    "join invoice as i on c.customerid = i.customerid\n",
    "'''\n",
    "\n",
    "pd.read_sql(query, engine).head()"
   ]
  },
  {
   "cell_type": "code",
   "execution_count": null,
   "metadata": {},
   "outputs": [],
   "source": []
  },
  {
   "cell_type": "markdown",
   "metadata": {},
   "source": [
    "##### How many Invoices were there in 2009 and 2011? What are the respective total sales for each of those years?"
   ]
  },
  {
   "cell_type": "code",
   "execution_count": null,
   "metadata": {},
   "outputs": [],
   "source": [
    "query = '''\n",
    "select count(i.invoiceid), sum(i.total)\n",
    "from invoice as i\n",
    "where i.invoicedate between datetime('2009-01-01 00:00:00') and datetime('2011-12-31 00:00:00');\n",
    "'''\n",
    "\n",
    "pd.read_sql(query, engine).head()"
   ]
  },
  {
   "cell_type": "code",
   "execution_count": null,
   "metadata": {},
   "outputs": [],
   "source": []
  },
  {
   "cell_type": "markdown",
   "metadata": {},
   "source": [
    "##### Looking at the InvoiceLine table, provide a query that COUNTs the number of line items for Invoice ID 37."
   ]
  },
  {
   "cell_type": "code",
   "execution_count": null,
   "metadata": {},
   "outputs": [],
   "source": [
    "pd.read_sql(\"select count(i.invoicelineid) from invoiceline as i where i.invoiceid = 37\", engine)"
   ]
  },
  {
   "cell_type": "code",
   "execution_count": null,
   "metadata": {},
   "outputs": [],
   "source": []
  },
  {
   "cell_type": "markdown",
   "metadata": {},
   "source": [
    "=========="
   ]
  },
  {
   "cell_type": "markdown",
   "metadata": {},
   "source": [
    "# THANK YOU!"
   ]
  }
 ],
 "metadata": {
  "kernelspec": {
   "display_name": "Python 3",
   "language": "python",
   "name": "python3"
  },
  "language_info": {
   "codemirror_mode": {
    "name": "ipython",
    "version": 3
   },
   "file_extension": ".py",
   "mimetype": "text/x-python",
   "name": "python",
   "nbconvert_exporter": "python",
   "pygments_lexer": "ipython3",
   "version": "3.8.3"
  }
 },
 "nbformat": 4,
 "nbformat_minor": 4
}
