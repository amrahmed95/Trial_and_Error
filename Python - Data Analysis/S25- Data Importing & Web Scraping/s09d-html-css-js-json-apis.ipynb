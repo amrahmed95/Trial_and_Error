{
 "cells": [
  {
   "cell_type": "markdown",
   "metadata": {},
   "source": [
    "# ADVANCED PANDAS: DATA IMPORTING & WEB SCRAPING"
   ]
  },
  {
   "cell_type": "markdown",
   "metadata": {},
   "source": [
    "Course Outline:\n",
    "- Basic Data Importing\n",
    "    - Flat Files (.csv, .tsv, .txt)\n",
    "    - Excel Files (.xlsx)\n",
    "    - Other Files (.dta, .mat, .. etc)\n",
    "- Importing Data from Relational Databases\n",
    "    - SQL Crash Course\n",
    "    - Database Files (.db, .sqlite, .. etc)\n",
    "- ***Importing Data from the Internet***\n",
    "    - ***HTML & CSS Crash Course***\n",
    "    - ***Working with JSON Data & APIs***\n",
    "    - Web Scraping Basics\n",
    "    - Case-study: Wuzzuf.com [Web Scraping]"
   ]
  },
  {
   "cell_type": "code",
   "execution_count": null,
   "metadata": {},
   "outputs": [],
   "source": []
  },
  {
   "cell_type": "markdown",
   "metadata": {},
   "source": [
    "### Importing Libraries"
   ]
  },
  {
   "cell_type": "code",
   "execution_count": null,
   "metadata": {},
   "outputs": [],
   "source": [
    "import numpy as np\n",
    "import pandas as pd\n",
    "import matplotlib.pyplot as plt\n",
    "import seaborn as sns\n",
    "%matplotlib inline\n",
    "sns.set()"
   ]
  },
  {
   "cell_type": "code",
   "execution_count": null,
   "metadata": {},
   "outputs": [],
   "source": []
  },
  {
   "cell_type": "markdown",
   "metadata": {},
   "source": [
    "=========="
   ]
  },
  {
   "cell_type": "markdown",
   "metadata": {},
   "source": [
    "## Importing Data from the Internet (Web Scraping)"
   ]
  },
  {
   "cell_type": "markdown",
   "metadata": {},
   "source": [
    "- HTML & CSS Crash Course\n",
    "- Working with JSON Data & APIs\n",
    "- Web Scraping Basics\n",
    "    - Case-study: Wuzzuf.com [Web Scraping]"
   ]
  },
  {
   "cell_type": "code",
   "execution_count": null,
   "metadata": {},
   "outputs": [],
   "source": [
    "from IPython.display import Image\n",
    "Image(\"data/ws.jpg\")"
   ]
  },
  {
   "cell_type": "code",
   "execution_count": null,
   "metadata": {},
   "outputs": [],
   "source": []
  },
  {
   "cell_type": "markdown",
   "metadata": {},
   "source": [
    "=========="
   ]
  },
  {
   "cell_type": "markdown",
   "metadata": {},
   "source": [
    "### HTML & CSS Basics"
   ]
  },
  {
   "cell_type": "markdown",
   "metadata": {},
   "source": [
    "HTML, CSS, & JS Online Editors\n",
    "- https://codepen.io/pen/\n",
    "- https://liveweave.com/\n",
    "\n",
    "HTML Tutorial:\n",
    "- https://www.w3schools.com/html/\n",
    "- https://www.sololearn.com/learning/1014\n",
    "\n",
    "CSS Tutorial:\n",
    "- https://www.w3schools.com/css/\n",
    "- https://www.sololearn.com/learning/1023"
   ]
  },
  {
   "cell_type": "markdown",
   "metadata": {},
   "source": [
    "##### Your Very First Web Page (Demo)"
   ]
  },
  {
   "cell_type": "raw",
   "metadata": {},
   "source": [
    "<html>\n",
    "\t<head>\n",
    "\t\t<title>My First Web Page</title>\n",
    "\n",
    "\t\t<style>\n",
    "\t\t\tbody {\n",
    "\t\t\t\tcolor: red;\n",
    "\t\t\t}\n",
    "\t\t\th1 {\n",
    "\t\t\t\tcolor: black;\n",
    "\t\t\t}\n",
    "\t\t\tp {\t\n",
    "\t\t\t\tfont-family: tahoma;\n",
    "\t\t\t\tfont-size: 40px;\n",
    "\t\t\t}\n",
    "\t\t</style>\n",
    "\t</head>\n",
    "\n",
    "\t<body>\n",
    "\t\t<h1>Hello, World!</h1>\n",
    "\t\t<p>This is a paragraph</p>\n",
    "\t\t<button id=\"color\">Change Color</button>\n",
    "\t\t\n",
    "\t\t<script>\n",
    "\t\t\tdocument.getElementById('color').onclick = changeColor;\n",
    "\t\t\tvar myColor = \"red\";\n",
    "\t\t\t\n",
    "\t\t\tfunction changeColor(){\n",
    "\t\t\t\tif (myColor == \"red\"){\n",
    "\t\t\t\t\tdocument.body.style.color = \"green\";\n",
    "\t\t\t\t\tmyColor = \"green\";\t\n",
    "\t\t\t\t} else {\n",
    "\t\t\t\t\tdocument.body.style.color = \"red\";\n",
    "\t\t\t\t\tmyColor = \"red\";\t\n",
    "\t\t\t\t}\t\t\t\n",
    "\t\t\t}\n",
    "\t\t</script>\n",
    "\t</body>\n",
    "</html>"
   ]
  },
  {
   "cell_type": "code",
   "execution_count": null,
   "metadata": {},
   "outputs": [],
   "source": []
  },
  {
   "cell_type": "markdown",
   "metadata": {},
   "source": [
    "##### Reading HTML Web Page in Pandas"
   ]
  },
  {
   "cell_type": "code",
   "execution_count": null,
   "metadata": {},
   "outputs": [],
   "source": [
    "# specify the web page address\n",
    "url = 'https://en.wikipedia.org/wiki/List_of_countries_by_GDP_(PPP)'"
   ]
  },
  {
   "cell_type": "code",
   "execution_count": null,
   "metadata": {},
   "outputs": [],
   "source": [
    "# reading the web page using 'pd.read_html()' method\n",
    "countries = pd.read_html(url, header=1)"
   ]
  },
  {
   "cell_type": "code",
   "execution_count": null,
   "metadata": {},
   "outputs": [],
   "source": [
    "type(countries)"
   ]
  },
  {
   "cell_type": "code",
   "execution_count": null,
   "metadata": {},
   "outputs": [],
   "source": [
    "len(countries)"
   ]
  },
  {
   "cell_type": "code",
   "execution_count": null,
   "metadata": {},
   "outputs": [],
   "source": [
    "df_countries = countries[0]\n",
    "df_countries"
   ]
  },
  {
   "cell_type": "code",
   "execution_count": null,
   "metadata": {},
   "outputs": [],
   "source": [
    "# renaming columns\n",
    "df_countries.rename({\"Country (or territory)\":\"country\", \"Region\":\"region\",\"Estimate.1\":\"gdp\"}, axis=1, inplace=True)"
   ]
  },
  {
   "cell_type": "code",
   "execution_count": null,
   "metadata": {},
   "outputs": [],
   "source": [
    "df_countries"
   ]
  },
  {
   "cell_type": "code",
   "execution_count": null,
   "metadata": {},
   "outputs": [],
   "source": [
    "# getting specific features\n",
    "df_countries = df_countries.loc[:,['country', 'region', 'gdp']]\n",
    "df_countries"
   ]
  },
  {
   "cell_type": "code",
   "execution_count": null,
   "metadata": {},
   "outputs": [],
   "source": [
    "# manipulating the strings of the 'country' column to remove \"†\" mark\n",
    "df_countries['country'] = df_countries['country'].str.replace(\"†\",\"\")"
   ]
  },
  {
   "cell_type": "code",
   "execution_count": null,
   "metadata": {},
   "outputs": [],
   "source": [
    "# Can we find the missing values\n",
    "df_countries['gdp'].isna().sum()"
   ]
  },
  {
   "cell_type": "code",
   "execution_count": null,
   "metadata": {},
   "outputs": [],
   "source": [
    "# Let's get the maximum gdp from each region\n",
    "df_countries.groupby(\"region\").max()"
   ]
  },
  {
   "cell_type": "code",
   "execution_count": null,
   "metadata": {},
   "outputs": [],
   "source": [
    "# Reading HTML Web Page doesn't always work\n",
    "pd.read_html(\"https://www.worldometers.info/gdp/gdp-by-country/\")"
   ]
  },
  {
   "cell_type": "code",
   "execution_count": null,
   "metadata": {},
   "outputs": [],
   "source": []
  },
  {
   "cell_type": "markdown",
   "metadata": {},
   "source": [
    "=========="
   ]
  },
  {
   "cell_type": "markdown",
   "metadata": {},
   "source": [
    "### Working with JSON Data & APIs"
   ]
  },
  {
   "cell_type": "markdown",
   "metadata": {},
   "source": [
    "##### JavaScript Object Notation (JSON)"
   ]
  },
  {
   "cell_type": "markdown",
   "metadata": {},
   "source": [
    "JSON Tutorial: https://www.w3schools.com/js/js_json_intro.asp"
   ]
  },
  {
   "cell_type": "code",
   "execution_count": null,
   "metadata": {},
   "outputs": [],
   "source": [
    "from IPython.display import Image\n",
    "Image(\"data/json.jpg\")"
   ]
  },
  {
   "cell_type": "code",
   "execution_count": null,
   "metadata": {},
   "outputs": [],
   "source": [
    "json = '''{\n",
    "  \"name\": [\"Ahmed Radwan\", \"Mustafa Othman\", \"Siddiq Burhan\", \"Omnia Nasser\"],\n",
    "  \"salary\": [64000, 73200, 76400, 94300],\n",
    "  \"occupation\": [\n",
    "    \"Software Technician\",\n",
    "    \"Data Scientist\",\n",
    "    \"Business Consultant\",\n",
    "    \"Aerospace Engineer\"\n",
    "  ]\n",
    "}'''"
   ]
  },
  {
   "cell_type": "code",
   "execution_count": null,
   "metadata": {},
   "outputs": [],
   "source": [
    "df_json = pd.read_json(json)\n",
    "df_json"
   ]
  },
  {
   "cell_type": "code",
   "execution_count": null,
   "metadata": {},
   "outputs": [],
   "source": [
    "df_json = pd.read_json('data/folks.json')\n",
    "df_json"
   ]
  },
  {
   "cell_type": "code",
   "execution_count": null,
   "metadata": {},
   "outputs": [],
   "source": []
  },
  {
   "cell_type": "markdown",
   "metadata": {},
   "source": [
    "##### Application Programming Interfaces (APIs)"
   ]
  },
  {
   "cell_type": "code",
   "execution_count": null,
   "metadata": {},
   "outputs": [],
   "source": [
    "from IPython.display import Image\n",
    "Image(\"data/apis.png\")"
   ]
  },
  {
   "cell_type": "markdown",
   "metadata": {},
   "source": [
    "- Facebook / Twitter APIs\n",
    "- The Open Movie Database: https://www.themoviedb.org/\n",
    "- The Open Movie Database API: https://developers.themoviedb.org/3/getting-started/introduction"
   ]
  },
  {
   "cell_type": "code",
   "execution_count": null,
   "metadata": {},
   "outputs": [],
   "source": []
  },
  {
   "cell_type": "code",
   "execution_count": null,
   "metadata": {},
   "outputs": [],
   "source": [
    "import requests\n",
    "api_url = \"https://api.themoviedb.org/3/movie/399566?api_key=51529d53b81238483643314ff5613da9\"\n",
    "\n",
    "# Call the API\n",
    "response = requests.get(api_url)"
   ]
  },
  {
   "cell_type": "code",
   "execution_count": null,
   "metadata": {},
   "outputs": [],
   "source": [
    "# Isolate the JSON data from the response object\n",
    "data = response.json()\n",
    "data"
   ]
  },
  {
   "cell_type": "code",
   "execution_count": null,
   "metadata": {},
   "outputs": [],
   "source": [
    "genres = pd.DataFrame(data['genres'])\n",
    "genres"
   ]
  },
  {
   "cell_type": "code",
   "execution_count": null,
   "metadata": {},
   "outputs": [],
   "source": [
    "genres['name']"
   ]
  },
  {
   "cell_type": "code",
   "execution_count": null,
   "metadata": {},
   "outputs": [],
   "source": []
  },
  {
   "cell_type": "markdown",
   "metadata": {},
   "source": [
    "=========="
   ]
  },
  {
   "cell_type": "markdown",
   "metadata": {},
   "source": [
    "# THANK YOU!"
   ]
  }
 ],
 "metadata": {
  "kernelspec": {
   "display_name": "Python 3",
   "language": "python",
   "name": "python3"
  },
  "language_info": {
   "codemirror_mode": {
    "name": "ipython",
    "version": 3
   },
   "file_extension": ".py",
   "mimetype": "text/x-python",
   "name": "python",
   "nbconvert_exporter": "python",
   "pygments_lexer": "ipython3",
   "version": "3.8.3"
  }
 },
 "nbformat": 4,
 "nbformat_minor": 4
}
