{
 "cells": [
  {
   "cell_type": "markdown",
   "metadata": {},
   "source": [
    "### Customer Churn model prediction [which customers are likely to leave or unsubscribe the bank] using Artificial Neural Network"
   ]
  },
  {
   "cell_type": "markdown",
   "metadata": {},
   "source": [
    "#### Importing the libraries"
   ]
  },
  {
   "cell_type": "code",
   "execution_count": 1,
   "metadata": {},
   "outputs": [],
   "source": [
    "import pandas as pd\n",
    "import numpy as np\n",
    "import matplotlib.pyplot as plt\n",
    "import seaborn as sns\n",
    "%matplotlib inline\n",
    "sns.set()"
   ]
  },
  {
   "cell_type": "markdown",
   "metadata": {},
   "source": [
    "#### Importing the dataset"
   ]
  },
  {
   "cell_type": "code",
   "execution_count": 2,
   "metadata": {},
   "outputs": [
    {
     "data": {
      "text/html": [
       "<div>\n",
       "<style scoped>\n",
       "    .dataframe tbody tr th:only-of-type {\n",
       "        vertical-align: middle;\n",
       "    }\n",
       "\n",
       "    .dataframe tbody tr th {\n",
       "        vertical-align: top;\n",
       "    }\n",
       "\n",
       "    .dataframe thead th {\n",
       "        text-align: right;\n",
       "    }\n",
       "</style>\n",
       "<table border=\"1\" class=\"dataframe\">\n",
       "  <thead>\n",
       "    <tr style=\"text-align: right;\">\n",
       "      <th></th>\n",
       "      <th>RowNumber</th>\n",
       "      <th>CustomerId</th>\n",
       "      <th>Surname</th>\n",
       "      <th>CreditScore</th>\n",
       "      <th>Geography</th>\n",
       "      <th>Gender</th>\n",
       "      <th>Age</th>\n",
       "      <th>Tenure</th>\n",
       "      <th>Balance</th>\n",
       "      <th>NumOfProducts</th>\n",
       "      <th>HasCrCard</th>\n",
       "      <th>IsActiveMember</th>\n",
       "      <th>EstimatedSalary</th>\n",
       "      <th>Exited</th>\n",
       "    </tr>\n",
       "  </thead>\n",
       "  <tbody>\n",
       "    <tr>\n",
       "      <th>0</th>\n",
       "      <td>1</td>\n",
       "      <td>15634602</td>\n",
       "      <td>Hargrave</td>\n",
       "      <td>619</td>\n",
       "      <td>France</td>\n",
       "      <td>Female</td>\n",
       "      <td>42</td>\n",
       "      <td>2</td>\n",
       "      <td>0.00</td>\n",
       "      <td>1</td>\n",
       "      <td>1</td>\n",
       "      <td>1</td>\n",
       "      <td>101348.88</td>\n",
       "      <td>1</td>\n",
       "    </tr>\n",
       "    <tr>\n",
       "      <th>1</th>\n",
       "      <td>2</td>\n",
       "      <td>15647311</td>\n",
       "      <td>Hill</td>\n",
       "      <td>608</td>\n",
       "      <td>Spain</td>\n",
       "      <td>Female</td>\n",
       "      <td>41</td>\n",
       "      <td>1</td>\n",
       "      <td>83807.86</td>\n",
       "      <td>1</td>\n",
       "      <td>0</td>\n",
       "      <td>1</td>\n",
       "      <td>112542.58</td>\n",
       "      <td>0</td>\n",
       "    </tr>\n",
       "    <tr>\n",
       "      <th>2</th>\n",
       "      <td>3</td>\n",
       "      <td>15619304</td>\n",
       "      <td>Onio</td>\n",
       "      <td>502</td>\n",
       "      <td>France</td>\n",
       "      <td>Female</td>\n",
       "      <td>42</td>\n",
       "      <td>8</td>\n",
       "      <td>159660.80</td>\n",
       "      <td>3</td>\n",
       "      <td>1</td>\n",
       "      <td>0</td>\n",
       "      <td>113931.57</td>\n",
       "      <td>1</td>\n",
       "    </tr>\n",
       "    <tr>\n",
       "      <th>3</th>\n",
       "      <td>4</td>\n",
       "      <td>15701354</td>\n",
       "      <td>Boni</td>\n",
       "      <td>699</td>\n",
       "      <td>France</td>\n",
       "      <td>Female</td>\n",
       "      <td>39</td>\n",
       "      <td>1</td>\n",
       "      <td>0.00</td>\n",
       "      <td>2</td>\n",
       "      <td>0</td>\n",
       "      <td>0</td>\n",
       "      <td>93826.63</td>\n",
       "      <td>0</td>\n",
       "    </tr>\n",
       "    <tr>\n",
       "      <th>4</th>\n",
       "      <td>5</td>\n",
       "      <td>15737888</td>\n",
       "      <td>Mitchell</td>\n",
       "      <td>850</td>\n",
       "      <td>Spain</td>\n",
       "      <td>Female</td>\n",
       "      <td>43</td>\n",
       "      <td>2</td>\n",
       "      <td>125510.82</td>\n",
       "      <td>1</td>\n",
       "      <td>1</td>\n",
       "      <td>1</td>\n",
       "      <td>79084.10</td>\n",
       "      <td>0</td>\n",
       "    </tr>\n",
       "    <tr>\n",
       "      <th>...</th>\n",
       "      <td>...</td>\n",
       "      <td>...</td>\n",
       "      <td>...</td>\n",
       "      <td>...</td>\n",
       "      <td>...</td>\n",
       "      <td>...</td>\n",
       "      <td>...</td>\n",
       "      <td>...</td>\n",
       "      <td>...</td>\n",
       "      <td>...</td>\n",
       "      <td>...</td>\n",
       "      <td>...</td>\n",
       "      <td>...</td>\n",
       "      <td>...</td>\n",
       "    </tr>\n",
       "    <tr>\n",
       "      <th>9995</th>\n",
       "      <td>9996</td>\n",
       "      <td>15606229</td>\n",
       "      <td>Obijiaku</td>\n",
       "      <td>771</td>\n",
       "      <td>France</td>\n",
       "      <td>Male</td>\n",
       "      <td>39</td>\n",
       "      <td>5</td>\n",
       "      <td>0.00</td>\n",
       "      <td>2</td>\n",
       "      <td>1</td>\n",
       "      <td>0</td>\n",
       "      <td>96270.64</td>\n",
       "      <td>0</td>\n",
       "    </tr>\n",
       "    <tr>\n",
       "      <th>9996</th>\n",
       "      <td>9997</td>\n",
       "      <td>15569892</td>\n",
       "      <td>Johnstone</td>\n",
       "      <td>516</td>\n",
       "      <td>France</td>\n",
       "      <td>Male</td>\n",
       "      <td>35</td>\n",
       "      <td>10</td>\n",
       "      <td>57369.61</td>\n",
       "      <td>1</td>\n",
       "      <td>1</td>\n",
       "      <td>1</td>\n",
       "      <td>101699.77</td>\n",
       "      <td>0</td>\n",
       "    </tr>\n",
       "    <tr>\n",
       "      <th>9997</th>\n",
       "      <td>9998</td>\n",
       "      <td>15584532</td>\n",
       "      <td>Liu</td>\n",
       "      <td>709</td>\n",
       "      <td>France</td>\n",
       "      <td>Female</td>\n",
       "      <td>36</td>\n",
       "      <td>7</td>\n",
       "      <td>0.00</td>\n",
       "      <td>1</td>\n",
       "      <td>0</td>\n",
       "      <td>1</td>\n",
       "      <td>42085.58</td>\n",
       "      <td>1</td>\n",
       "    </tr>\n",
       "    <tr>\n",
       "      <th>9998</th>\n",
       "      <td>9999</td>\n",
       "      <td>15682355</td>\n",
       "      <td>Sabbatini</td>\n",
       "      <td>772</td>\n",
       "      <td>Germany</td>\n",
       "      <td>Male</td>\n",
       "      <td>42</td>\n",
       "      <td>3</td>\n",
       "      <td>75075.31</td>\n",
       "      <td>2</td>\n",
       "      <td>1</td>\n",
       "      <td>0</td>\n",
       "      <td>92888.52</td>\n",
       "      <td>1</td>\n",
       "    </tr>\n",
       "    <tr>\n",
       "      <th>9999</th>\n",
       "      <td>10000</td>\n",
       "      <td>15628319</td>\n",
       "      <td>Walker</td>\n",
       "      <td>792</td>\n",
       "      <td>France</td>\n",
       "      <td>Female</td>\n",
       "      <td>28</td>\n",
       "      <td>4</td>\n",
       "      <td>130142.79</td>\n",
       "      <td>1</td>\n",
       "      <td>1</td>\n",
       "      <td>0</td>\n",
       "      <td>38190.78</td>\n",
       "      <td>0</td>\n",
       "    </tr>\n",
       "  </tbody>\n",
       "</table>\n",
       "<p>10000 rows × 14 columns</p>\n",
       "</div>"
      ],
      "text/plain": [
       "      RowNumber  CustomerId    Surname  CreditScore Geography  Gender  Age  \\\n",
       "0             1    15634602   Hargrave          619    France  Female   42   \n",
       "1             2    15647311       Hill          608     Spain  Female   41   \n",
       "2             3    15619304       Onio          502    France  Female   42   \n",
       "3             4    15701354       Boni          699    France  Female   39   \n",
       "4             5    15737888   Mitchell          850     Spain  Female   43   \n",
       "...         ...         ...        ...          ...       ...     ...  ...   \n",
       "9995       9996    15606229   Obijiaku          771    France    Male   39   \n",
       "9996       9997    15569892  Johnstone          516    France    Male   35   \n",
       "9997       9998    15584532        Liu          709    France  Female   36   \n",
       "9998       9999    15682355  Sabbatini          772   Germany    Male   42   \n",
       "9999      10000    15628319     Walker          792    France  Female   28   \n",
       "\n",
       "      Tenure    Balance  NumOfProducts  HasCrCard  IsActiveMember  \\\n",
       "0          2       0.00              1          1               1   \n",
       "1          1   83807.86              1          0               1   \n",
       "2          8  159660.80              3          1               0   \n",
       "3          1       0.00              2          0               0   \n",
       "4          2  125510.82              1          1               1   \n",
       "...      ...        ...            ...        ...             ...   \n",
       "9995       5       0.00              2          1               0   \n",
       "9996      10   57369.61              1          1               1   \n",
       "9997       7       0.00              1          0               1   \n",
       "9998       3   75075.31              2          1               0   \n",
       "9999       4  130142.79              1          1               0   \n",
       "\n",
       "      EstimatedSalary  Exited  \n",
       "0           101348.88       1  \n",
       "1           112542.58       0  \n",
       "2           113931.57       1  \n",
       "3            93826.63       0  \n",
       "4            79084.10       0  \n",
       "...               ...     ...  \n",
       "9995         96270.64       0  \n",
       "9996        101699.77       0  \n",
       "9997         42085.58       1  \n",
       "9998         92888.52       1  \n",
       "9999         38190.78       0  \n",
       "\n",
       "[10000 rows x 14 columns]"
      ]
     },
     "execution_count": 2,
     "metadata": {},
     "output_type": "execute_result"
    }
   ],
   "source": [
    "dataset = pd.read_csv('../Dataset/Churn_Modelling.csv')\n",
    "dataset"
   ]
  },
  {
   "cell_type": "markdown",
   "metadata": {},
   "source": [
    "## Part 1 - Data Preprocessing"
   ]
  },
  {
   "cell_type": "markdown",
   "metadata": {},
   "source": [
    "#### Splitting the dataset into independent and dependent variables"
   ]
  },
  {
   "cell_type": "code",
   "execution_count": 3,
   "metadata": {},
   "outputs": [],
   "source": [
    "X = dataset.iloc[:, 3:-1].values\n",
    "y = dataset.iloc[:, -1].values"
   ]
  },
  {
   "cell_type": "markdown",
   "metadata": {},
   "source": [
    "#### Encoding categorical data"
   ]
  },
  {
   "cell_type": "code",
   "execution_count": 4,
   "metadata": {},
   "outputs": [],
   "source": [
    "from sklearn.preprocessing import LabelEncoder\n",
    "le = LabelEncoder()\n",
    "X[:, 2] = le.fit_transform(X[:, 2])     # LabelEncoding Gender column\n",
    "\n",
    "from sklearn.compose import ColumnTransformer\n",
    "from sklearn.preprocessing import OneHotEncoder\n",
    "ct = ColumnTransformer(transformers=[('encoder', OneHotEncoder(), [1])], remainder='passthrough')           # OneHotEncoder Geography column\n",
    "X = np.array(ct.fit_transform(X))\n",
    "\n",
    "# Taking care of dummy variable trap for the Geography\n",
    "X = X[:, 1:]"
   ]
  },
  {
   "cell_type": "markdown",
   "metadata": {},
   "source": [
    "#### Splitting the dataset into the Training set and Test set "
   ]
  },
  {
   "cell_type": "code",
   "execution_count": 5,
   "metadata": {},
   "outputs": [],
   "source": [
    "from sklearn.model_selection import train_test_split\n",
    "X_train, X_test, y_train, y_test = train_test_split(X, y, test_size = 0.25, random_state = 0)"
   ]
  },
  {
   "cell_type": "markdown",
   "metadata": {},
   "source": [
    "#### Feature Scaling"
   ]
  },
  {
   "cell_type": "code",
   "execution_count": 6,
   "metadata": {},
   "outputs": [],
   "source": [
    "from sklearn.preprocessing import StandardScaler\n",
    "sc = StandardScaler()\n",
    "X_train = sc.fit_transform(X_train)\n",
    "X_test = sc.transform(X_test)"
   ]
  },
  {
   "cell_type": "markdown",
   "metadata": {},
   "source": [
    "## Part 2 - Building the ANN"
   ]
  },
  {
   "cell_type": "markdown",
   "metadata": {},
   "source": [
    "#### Importing the Keras libraries and packages"
   ]
  },
  {
   "cell_type": "code",
   "execution_count": 7,
   "metadata": {},
   "outputs": [],
   "source": [
    "import keras\n",
    "from keras.models import Sequential\n",
    "from keras.layers import Dense"
   ]
  },
  {
   "cell_type": "markdown",
   "metadata": {},
   "source": [
    "#### Initialization the ANN"
   ]
  },
  {
   "cell_type": "code",
   "execution_count": 8,
   "metadata": {},
   "outputs": [],
   "source": [
    "classifier = Sequential()"
   ]
  },
  {
   "cell_type": "markdown",
   "metadata": {},
   "source": [
    "#### Adding the input layer and the first hidden layer"
   ]
  },
  {
   "cell_type": "code",
   "execution_count": 9,
   "metadata": {},
   "outputs": [],
   "source": [
    "# Units => Output_dimention [ input_dim + output_dim / 2 ] || [ (11 + 1) / 2]\n",
    "# kernel_initializer => Distribution of weights (Uniformly randomly initializing the weights)\n",
    "# activation => Relu / Rectifier function\n",
    "\n",
    "classifier.add(Dense(units = 6, kernel_initializer = 'uniform', activation = 'relu', input_dim = 11))   # Input layer + First Hidden Layer"
   ]
  },
  {
   "cell_type": "markdown",
   "metadata": {},
   "source": [
    "#### Adding the second hidden layer and the output layer"
   ]
  },
  {
   "cell_type": "code",
   "execution_count": 10,
   "metadata": {},
   "outputs": [],
   "source": [
    "classifier.add(Dense(units = 6, kernel_initializer = 'uniform', activation = 'relu'))       # Second Hidden Layer\n",
    "\n",
    "classifier.add(Dense(units = 1, kernel_initializer = 'uniform', activation = 'sigmoid'))    # Output layer"
   ]
  },
  {
   "cell_type": "markdown",
   "metadata": {},
   "source": [
    "#### Compile the ANN"
   ]
  },
  {
   "cell_type": "code",
   "execution_count": 14,
   "metadata": {},
   "outputs": [],
   "source": [
    "classifier.compile(optimizer = 'adam', loss = 'binary_crossentropy', metrics = ['accuracy']) \n",
    "\n",
    "# Adam is an optimization algorithm that can be used instead of the classical stochastic gradient descent procedure to update network weights iterative based in training data as a backpropagation"
   ]
  },
  {
   "cell_type": "markdown",
   "metadata": {},
   "source": [
    "#### Fitting the ANN to the Training set"
   ]
  },
  {
   "cell_type": "code",
   "execution_count": 15,
   "metadata": {},
   "outputs": [
    {
     "name": "stdout",
     "output_type": "stream",
     "text": [
      "Epoch 1/100\n",
      "750/750 [==============================] - 2s 1ms/step - loss: 0.4006 - accuracy: 0.8357\n",
      "Epoch 2/100\n",
      "750/750 [==============================] - 1s 2ms/step - loss: 0.4008 - accuracy: 0.8344\n",
      "Epoch 3/100\n",
      "750/750 [==============================] - 1s 1ms/step - loss: 0.4006 - accuracy: 0.8351\n",
      "Epoch 4/100\n",
      "750/750 [==============================] - 1s 1ms/step - loss: 0.4005 - accuracy: 0.8335\n",
      "Epoch 5/100\n",
      "750/750 [==============================] - 1s 1ms/step - loss: 0.4002 - accuracy: 0.8343\n",
      "Epoch 6/100\n",
      "750/750 [==============================] - 1s 1ms/step - loss: 0.4005 - accuracy: 0.8353\n",
      "Epoch 7/100\n",
      "750/750 [==============================] - 1s 1ms/step - loss: 0.4008 - accuracy: 0.8356\n",
      "Epoch 8/100\n",
      "750/750 [==============================] - 1s 1ms/step - loss: 0.4005 - accuracy: 0.8359\n",
      "Epoch 9/100\n",
      "750/750 [==============================] - 1s 1ms/step - loss: 0.4006 - accuracy: 0.8335\n",
      "Epoch 10/100\n",
      "750/750 [==============================] - 1s 1ms/step - loss: 0.4007 - accuracy: 0.8347\n",
      "Epoch 11/100\n",
      "750/750 [==============================] - 1s 1ms/step - loss: 0.4001 - accuracy: 0.8349\n",
      "Epoch 12/100\n",
      "750/750 [==============================] - 1s 1ms/step - loss: 0.4002 - accuracy: 0.8339\n",
      "Epoch 13/100\n",
      "750/750 [==============================] - 1s 1ms/step - loss: 0.4004 - accuracy: 0.8348\n",
      "Epoch 14/100\n",
      "750/750 [==============================] - 1s 1ms/step - loss: 0.4008 - accuracy: 0.8341\n",
      "Epoch 15/100\n",
      "750/750 [==============================] - 1s 1ms/step - loss: 0.4002 - accuracy: 0.8347\n",
      "Epoch 16/100\n",
      "750/750 [==============================] - 1s 1ms/step - loss: 0.4007 - accuracy: 0.8348\n",
      "Epoch 17/100\n",
      "750/750 [==============================] - 1s 1ms/step - loss: 0.4008 - accuracy: 0.8352\n",
      "Epoch 18/100\n",
      "750/750 [==============================] - 1s 1ms/step - loss: 0.4001 - accuracy: 0.8351\n",
      "Epoch 19/100\n",
      "750/750 [==============================] - 1s 1ms/step - loss: 0.4009 - accuracy: 0.8348\n",
      "Epoch 20/100\n",
      "750/750 [==============================] - 1s 1ms/step - loss: 0.4008 - accuracy: 0.8331\n",
      "Epoch 21/100\n",
      "750/750 [==============================] - 1s 1ms/step - loss: 0.4003 - accuracy: 0.8353\n",
      "Epoch 22/100\n",
      "750/750 [==============================] - 1s 1ms/step - loss: 0.4006 - accuracy: 0.8348\n",
      "Epoch 23/100\n",
      "750/750 [==============================] - 1s 1ms/step - loss: 0.4003 - accuracy: 0.8336\n",
      "Epoch 24/100\n",
      "750/750 [==============================] - 1s 1ms/step - loss: 0.4003 - accuracy: 0.8349\n",
      "Epoch 25/100\n",
      "750/750 [==============================] - 1s 1ms/step - loss: 0.4008 - accuracy: 0.8352\n",
      "Epoch 26/100\n",
      "750/750 [==============================] - 1s 1ms/step - loss: 0.4000 - accuracy: 0.8356\n",
      "Epoch 27/100\n",
      "750/750 [==============================] - 1s 1ms/step - loss: 0.4004 - accuracy: 0.8352\n",
      "Epoch 28/100\n",
      "750/750 [==============================] - 1s 1ms/step - loss: 0.4007 - accuracy: 0.8349\n",
      "Epoch 29/100\n",
      "750/750 [==============================] - 1s 2ms/step - loss: 0.4003 - accuracy: 0.8359\n",
      "Epoch 30/100\n",
      "750/750 [==============================] - 1s 1ms/step - loss: 0.4002 - accuracy: 0.8344\n",
      "Epoch 31/100\n",
      "750/750 [==============================] - 1s 2ms/step - loss: 0.4008 - accuracy: 0.8347\n",
      "Epoch 32/100\n",
      "750/750 [==============================] - 1s 2ms/step - loss: 0.4001 - accuracy: 0.8369\n",
      "Epoch 33/100\n",
      "750/750 [==============================] - 1s 2ms/step - loss: 0.4004 - accuracy: 0.8336\n",
      "Epoch 34/100\n",
      "750/750 [==============================] - 1s 1ms/step - loss: 0.4006 - accuracy: 0.8356\n",
      "Epoch 35/100\n",
      "750/750 [==============================] - 1s 1ms/step - loss: 0.4005 - accuracy: 0.8348\n",
      "Epoch 36/100\n",
      "750/750 [==============================] - 1s 1ms/step - loss: 0.4002 - accuracy: 0.8344\n",
      "Epoch 37/100\n",
      "750/750 [==============================] - 1s 1ms/step - loss: 0.4006 - accuracy: 0.8352\n",
      "Epoch 38/100\n",
      "750/750 [==============================] - 1s 1ms/step - loss: 0.4000 - accuracy: 0.8361\n",
      "Epoch 39/100\n",
      "750/750 [==============================] - 1s 1ms/step - loss: 0.4007 - accuracy: 0.8352\n",
      "Epoch 40/100\n",
      "750/750 [==============================] - 1s 1ms/step - loss: 0.4004 - accuracy: 0.8348\n",
      "Epoch 41/100\n",
      "750/750 [==============================] - 1s 1ms/step - loss: 0.4004 - accuracy: 0.8349\n",
      "Epoch 42/100\n",
      "750/750 [==============================] - 1s 1ms/step - loss: 0.4003 - accuracy: 0.8353\n",
      "Epoch 43/100\n",
      "750/750 [==============================] - 1s 1ms/step - loss: 0.4002 - accuracy: 0.8347\n",
      "Epoch 44/100\n",
      "750/750 [==============================] - 1s 1ms/step - loss: 0.4005 - accuracy: 0.8356\n",
      "Epoch 45/100\n",
      "750/750 [==============================] - 1s 1ms/step - loss: 0.4005 - accuracy: 0.8347\n",
      "Epoch 46/100\n",
      "750/750 [==============================] - 1s 1ms/step - loss: 0.3995 - accuracy: 0.8359\n",
      "Epoch 47/100\n",
      "750/750 [==============================] - 1s 1ms/step - loss: 0.4003 - accuracy: 0.8356\n",
      "Epoch 48/100\n",
      "750/750 [==============================] - 1s 1ms/step - loss: 0.4001 - accuracy: 0.8343\n",
      "Epoch 49/100\n",
      "750/750 [==============================] - 1s 1ms/step - loss: 0.4002 - accuracy: 0.8344\n",
      "Epoch 50/100\n",
      "750/750 [==============================] - 1s 1ms/step - loss: 0.4004 - accuracy: 0.8365\n",
      "Epoch 51/100\n",
      "750/750 [==============================] - 1s 1ms/step - loss: 0.3998 - accuracy: 0.8348\n",
      "Epoch 52/100\n",
      "750/750 [==============================] - 1s 1ms/step - loss: 0.4002 - accuracy: 0.8344\n",
      "Epoch 53/100\n",
      "750/750 [==============================] - 1s 1ms/step - loss: 0.4004 - accuracy: 0.8345\n",
      "Epoch 54/100\n",
      "750/750 [==============================] - 1s 1ms/step - loss: 0.4002 - accuracy: 0.8340\n",
      "Epoch 55/100\n",
      "750/750 [==============================] - 1s 1ms/step - loss: 0.4008 - accuracy: 0.8352\n",
      "Epoch 56/100\n",
      "750/750 [==============================] - 1s 1ms/step - loss: 0.4003 - accuracy: 0.8356\n",
      "Epoch 57/100\n",
      "750/750 [==============================] - 1s 1ms/step - loss: 0.4006 - accuracy: 0.8360\n",
      "Epoch 58/100\n",
      "750/750 [==============================] - 1s 1ms/step - loss: 0.4000 - accuracy: 0.8337\n",
      "Epoch 59/100\n",
      "750/750 [==============================] - 1s 1ms/step - loss: 0.4002 - accuracy: 0.8357\n",
      "Epoch 60/100\n",
      "750/750 [==============================] - 1s 1ms/step - loss: 0.4003 - accuracy: 0.8335\n",
      "Epoch 61/100\n",
      "750/750 [==============================] - 1s 1ms/step - loss: 0.4002 - accuracy: 0.8371\n",
      "Epoch 62/100\n",
      "750/750 [==============================] - 1s 1ms/step - loss: 0.4001 - accuracy: 0.8344\n",
      "Epoch 63/100\n",
      "750/750 [==============================] - 1s 1ms/step - loss: 0.4007 - accuracy: 0.8343\n",
      "Epoch 64/100\n",
      "750/750 [==============================] - 1s 1ms/step - loss: 0.4003 - accuracy: 0.8331\n",
      "Epoch 65/100\n",
      "750/750 [==============================] - 1s 1ms/step - loss: 0.4001 - accuracy: 0.8335\n",
      "Epoch 66/100\n",
      "750/750 [==============================] - 1s 1ms/step - loss: 0.4005 - accuracy: 0.8359\n",
      "Epoch 67/100\n",
      "750/750 [==============================] - 1s 1ms/step - loss: 0.4005 - accuracy: 0.8355\n",
      "Epoch 68/100\n",
      "750/750 [==============================] - 1s 1ms/step - loss: 0.4002 - accuracy: 0.8344\n",
      "Epoch 69/100\n",
      "750/750 [==============================] - 1s 1ms/step - loss: 0.4000 - accuracy: 0.8343\n",
      "Epoch 70/100\n",
      "750/750 [==============================] - 1s 1ms/step - loss: 0.4000 - accuracy: 0.8351\n",
      "Epoch 71/100\n",
      "750/750 [==============================] - 1s 1ms/step - loss: 0.4005 - accuracy: 0.8352\n",
      "Epoch 72/100\n",
      "750/750 [==============================] - 1s 1ms/step - loss: 0.3999 - accuracy: 0.8360\n",
      "Epoch 73/100\n",
      "750/750 [==============================] - 1s 1ms/step - loss: 0.4003 - accuracy: 0.8353\n",
      "Epoch 74/100\n",
      "750/750 [==============================] - 1s 1ms/step - loss: 0.4004 - accuracy: 0.8352\n",
      "Epoch 75/100\n",
      "750/750 [==============================] - 1s 1ms/step - loss: 0.4003 - accuracy: 0.8339\n",
      "Epoch 76/100\n",
      "750/750 [==============================] - 1s 1ms/step - loss: 0.4004 - accuracy: 0.8332\n",
      "Epoch 77/100\n",
      "750/750 [==============================] - 1s 1ms/step - loss: 0.4007 - accuracy: 0.8348\n",
      "Epoch 78/100\n",
      "750/750 [==============================] - 1s 2ms/step - loss: 0.3997 - accuracy: 0.8349\n",
      "Epoch 79/100\n",
      "750/750 [==============================] - 1s 1ms/step - loss: 0.4000 - accuracy: 0.8361\n",
      "Epoch 80/100\n",
      "750/750 [==============================] - 1s 1ms/step - loss: 0.4009 - accuracy: 0.8351\n",
      "Epoch 81/100\n",
      "750/750 [==============================] - 1s 1ms/step - loss: 0.4003 - accuracy: 0.8349\n",
      "Epoch 82/100\n",
      "750/750 [==============================] - 1s 1ms/step - loss: 0.3999 - accuracy: 0.8360\n",
      "Epoch 83/100\n",
      "750/750 [==============================] - 1s 1ms/step - loss: 0.4002 - accuracy: 0.8352\n",
      "Epoch 84/100\n",
      "750/750 [==============================] - 1s 2ms/step - loss: 0.4005 - accuracy: 0.8333\n",
      "Epoch 85/100\n",
      "750/750 [==============================] - 1s 1ms/step - loss: 0.4004 - accuracy: 0.8357\n",
      "Epoch 86/100\n",
      "750/750 [==============================] - 1s 2ms/step - loss: 0.4007 - accuracy: 0.8341\n",
      "Epoch 87/100\n",
      "750/750 [==============================] - 1s 1ms/step - loss: 0.4001 - accuracy: 0.8348\n",
      "Epoch 88/100\n",
      "750/750 [==============================] - 1s 1ms/step - loss: 0.3999 - accuracy: 0.8347\n",
      "Epoch 89/100\n",
      "750/750 [==============================] - 1s 1ms/step - loss: 0.4004 - accuracy: 0.8344\n",
      "Epoch 90/100\n",
      "750/750 [==============================] - 1s 1ms/step - loss: 0.3999 - accuracy: 0.8344\n",
      "Epoch 91/100\n",
      "750/750 [==============================] - 1s 1ms/step - loss: 0.4003 - accuracy: 0.8356\n",
      "Epoch 92/100\n",
      "750/750 [==============================] - 1s 1ms/step - loss: 0.4001 - accuracy: 0.8345\n",
      "Epoch 93/100\n",
      "750/750 [==============================] - 1s 1ms/step - loss: 0.4005 - accuracy: 0.8339\n",
      "Epoch 94/100\n",
      "750/750 [==============================] - 1s 1ms/step - loss: 0.4001 - accuracy: 0.8339\n",
      "Epoch 95/100\n",
      "750/750 [==============================] - 1s 1ms/step - loss: 0.4005 - accuracy: 0.8360\n",
      "Epoch 96/100\n",
      "750/750 [==============================] - 1s 2ms/step - loss: 0.4001 - accuracy: 0.8351\n",
      "Epoch 97/100\n",
      "750/750 [==============================] - 1s 1ms/step - loss: 0.4007 - accuracy: 0.8348\n",
      "Epoch 98/100\n",
      "750/750 [==============================] - 1s 2ms/step - loss: 0.4002 - accuracy: 0.8368\n",
      "Epoch 99/100\n",
      "750/750 [==============================] - 1s 2ms/step - loss: 0.4000 - accuracy: 0.8347\n",
      "Epoch 100/100\n",
      "750/750 [==============================] - 1s 2ms/step - loss: 0.3998 - accuracy: 0.8348\n"
     ]
    },
    {
     "data": {
      "text/plain": [
       "<keras.src.callbacks.History at 0x1a2455d2810>"
      ]
     },
     "execution_count": 15,
     "metadata": {},
     "output_type": "execute_result"
    }
   ],
   "source": [
    "classifier.fit(X_train, y_train, batch_size = 10, epochs = 100)\n",
    "\n",
    "# Mini-batch (batch_size = 10)"
   ]
  },
  {
   "cell_type": "markdown",
   "metadata": {},
   "source": [
    "## Part 3 - Making the predictions and evaluating the model"
   ]
  },
  {
   "cell_type": "markdown",
   "metadata": {},
   "source": [
    "#### Predicting the Test set results"
   ]
  },
  {
   "cell_type": "code",
   "execution_count": 17,
   "metadata": {},
   "outputs": [
    {
     "name": "stdout",
     "output_type": "stream",
     "text": [
      "79/79 [==============================] - 0s 1ms/step\n"
     ]
    }
   ],
   "source": [
    "y_pred_total = classifier.predict(X_test)\n"
   ]
  },
  {
   "cell_type": "code",
   "execution_count": 20,
   "metadata": {},
   "outputs": [],
   "source": [
    "y_pred = (y_pred_total > 0.5)\n",
    "\n",
    "# Customers with probability > 50 % will leave the bank"
   ]
  },
  {
   "cell_type": "markdown",
   "metadata": {},
   "source": [
    "#### Making the Confusion Matrix"
   ]
  },
  {
   "cell_type": "code",
   "execution_count": 24,
   "metadata": {},
   "outputs": [
    {
     "name": "stdout",
     "output_type": "stream",
     "text": [
      "[[1937   54]\n",
      " [ 340  169]]\n"
     ]
    },
    {
     "data": {
      "text/plain": [
       "0.8424"
      ]
     },
     "execution_count": 24,
     "metadata": {},
     "output_type": "execute_result"
    }
   ],
   "source": [
    "from sklearn.metrics import confusion_matrix, accuracy_score\n",
    "cm = confusion_matrix(y_test, y_pred)\n",
    "print(cm)       \n",
    "accuracy_score(y_test, y_pred)\n"
   ]
  },
  {
   "cell_type": "markdown",
   "metadata": {},
   "source": [
    "##### Accuracy Score of Training Set => 0.8348\n",
    "##### Accuracy Score of Test Set => 0.8424"
   ]
  },
  {
   "cell_type": "code",
   "execution_count": null,
   "metadata": {},
   "outputs": [],
   "source": []
  }
 ],
 "metadata": {
  "kernelspec": {
   "display_name": "Python 3",
   "language": "python",
   "name": "python3"
  },
  "language_info": {
   "codemirror_mode": {
    "name": "ipython",
    "version": 3
   },
   "file_extension": ".py",
   "mimetype": "text/x-python",
   "name": "python",
   "nbconvert_exporter": "python",
   "pygments_lexer": "ipython3",
   "version": "3.11.4"
  }
 },
 "nbformat": 4,
 "nbformat_minor": 2
}
