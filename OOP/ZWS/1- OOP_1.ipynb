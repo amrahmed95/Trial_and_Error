{
 "cells": [
  {
   "cell_type": "code",
   "execution_count": 53,
   "metadata": {},
   "outputs": [],
   "source": [
    "class Member:\n",
    "    # Class Attribues (Outside the constructor)\n",
    "    not_allowed_names = [\"Hell\", \"Shit\", \"baloot\"]\n",
    "    users_num = 0\n",
    "\n",
    "    # Class Methods\n",
    "\n",
    "    @classmethod\n",
    "    def get_users_num(cls):\n",
    "        print(\"We have {} users in our system\".format(cls.users_num))\n",
    "\n",
    "    # Static Method [عاطف في نفسها]\n",
    "    # [Related to the class .. Doesn't have access to the object ot class]\n",
    "    # [Used if I don't need any access to the instance methods/attributes or class methods/attributes]\n",
    "    \n",
    "    @staticmethod\n",
    "    def sayHello():\n",
    "        print(\"Hello from static method\")\n",
    "\n",
    "    # Instance Attributes\n",
    "    # Constructor:\n",
    "    def __init__(self, firstName, LastName, gender):\n",
    "        self.first_name = firstName\n",
    "        self.last_name = LastName\n",
    "        self.gender = gender\n",
    "        Member.users_num += 1\n",
    "\n",
    "    \n",
    "    def getFullName(self):\n",
    "       if self.first_name in Member.not_allowed_names:\n",
    "           raise ValueError(\"This name is not allowed\")\n",
    "       else: \n",
    "        return f\"{self.first_name} {self.last_name}\"\n",
    "    \n",
    "    def name_with_title(self):\n",
    "        if self.gender ==\"Male\":\n",
    "            return f\"Hello Mr. {self.first_name} {self.last_name}\"\n",
    "        elif self.gender == \"Female\":\n",
    "            return f\"Hello Mrs. {self.first_name} {self.last_name}\"\n",
    "        else:\n",
    "            return f\"Hello {self.first_name}\"\n",
    "        \n",
    "\n",
    "    def get_all_info(self):\n",
    "        return f\"{self.name_with_title()}, your full name is {self.getFullName()}, and your gender is {self.gender}\"\n",
    "    \n",
    "    def delete_user(self):\n",
    "        Member.users_num -= 1\n",
    "        return f\"User {self.first_name} Deleted. Total Users: {Member.users_num}\"\n",
    "    \n"
   ]
  },
  {
   "cell_type": "code",
   "execution_count": 52,
   "metadata": {},
   "outputs": [
    {
     "name": "stdout",
     "output_type": "stream",
     "text": [
      "0\n",
      "4\n",
      "We have 4 users in our system\n"
     ]
    }
   ],
   "source": [
    "print(Member.users_num) \n",
    "Member_10 = Member(\"John\", \"Doe\", \"male\")\n",
    "Member_11 = Member(\"John\", \"Doe\", \"male\")\n",
    "Member_12 = Member(\"John\", \"Doe\", \"male\")\n",
    "Member_13 = Member(\"John\", \"Doe\", \"male\")\n",
    "print(Member.users_num) \n",
    "\n",
    "Member.get_users_num()"
   ]
  },
  {
   "cell_type": "code",
   "execution_count": 50,
   "metadata": {},
   "outputs": [
    {
     "name": "stdout",
     "output_type": "stream",
     "text": [
      "User John Deleted. Total Users: 3\n"
     ]
    }
   ],
   "source": [
    "print(Member_13.delete_user())"
   ]
  },
  {
   "cell_type": "code",
   "execution_count": 23,
   "metadata": {},
   "outputs": [
    {
     "name": "stdout",
     "output_type": "stream",
     "text": [
      "John Doe\n"
     ]
    }
   ],
   "source": [
    "\n",
    "Member_1 = Member(\"John\", \"Doe\", \"male\")\n",
    "print(Member_1.first_name, Member_1.last_name)"
   ]
  },
  {
   "cell_type": "code",
   "execution_count": 28,
   "metadata": {},
   "outputs": [
    {
     "name": "stdout",
     "output_type": "stream",
     "text": [
      "Amr Ahmed\n"
     ]
    }
   ],
   "source": [
    "Member_2 = Member(\"Amr\", \"Ahmed\", \"Male\")\n",
    "\n",
    "print(Member_2.getFullName())"
   ]
  },
  {
   "cell_type": "code",
   "execution_count": 27,
   "metadata": {},
   "outputs": [
    {
     "name": "stdout",
     "output_type": "stream",
     "text": [
      "Hello Mrs. Mona Ali\n"
     ]
    }
   ],
   "source": [
    "Member_2 = Member(\"Mona\", \"Ali\", \"Female\")\n",
    "\n",
    "print(Member_2.name_with_title())"
   ]
  },
  {
   "cell_type": "code",
   "execution_count": 29,
   "metadata": {},
   "outputs": [
    {
     "name": "stdout",
     "output_type": "stream",
     "text": [
      "Hello Mr. Ahmed Ali\n"
     ]
    }
   ],
   "source": [
    "Member_2 = Member(\"Ahmed\", \"Ali\", \"Male\")\n",
    "\n",
    "print(Member_2.name_with_title())"
   ]
  },
  {
   "cell_type": "code",
   "execution_count": 37,
   "metadata": {},
   "outputs": [
    {
     "name": "stdout",
     "output_type": "stream",
     "text": [
      "Hello Mr. Ahmed Ali, your full name is Ahmed Ali, and your gender is Male\n",
      "Hello Mrs. Mona Ali, your full name is Mona Ali, and your gender is Female\n"
     ]
    }
   ],
   "source": [
    "Member_3 = Member(\"Ahmed\", \"Ali\", \"Male\")\n",
    "Member_4 = Member(\"Mona\", \"Ali\", \"Female\")\n",
    "\n",
    "print(Member_3.get_all_info())\n",
    "print(Member_4.get_all_info())"
   ]
  },
  {
   "cell_type": "code",
   "execution_count": 36,
   "metadata": {},
   "outputs": [
    {
     "ename": "ValueError",
     "evalue": "This name is not allowed",
     "output_type": "error",
     "traceback": [
      "\u001b[1;31m---------------------------------------------------------------------------\u001b[0m",
      "\u001b[1;31mValueError\u001b[0m                                Traceback (most recent call last)",
      "\u001b[1;32mg:\\Udemy Courses Files\\Python OOP\\OOP_1.ipynb Cell 7\u001b[0m line \u001b[0;36m3\n\u001b[0;32m      <a href='vscode-notebook-cell:/g%3A/Udemy%20Courses%20Files/Python%20OOP/OOP_1.ipynb#W6sZmlsZQ%3D%3D?line=0'>1</a>\u001b[0m Member_5 \u001b[39m=\u001b[39m Member(\u001b[39m\"\u001b[39m\u001b[39mShit\u001b[39m\u001b[39m\"\u001b[39m, \u001b[39m\"\u001b[39m\u001b[39mHell\u001b[39m\u001b[39m\"\u001b[39m, \u001b[39m\"\u001b[39m\u001b[39mFF\u001b[39m\u001b[39m\"\u001b[39m)\n\u001b[1;32m----> <a href='vscode-notebook-cell:/g%3A/Udemy%20Courses%20Files/Python%20OOP/OOP_1.ipynb#W6sZmlsZQ%3D%3D?line=2'>3</a>\u001b[0m \u001b[39mprint\u001b[39m(Member_5\u001b[39m.\u001b[39;49mget_all_info())\n",
      "\u001b[1;32mg:\\Udemy Courses Files\\Python OOP\\OOP_1.ipynb Cell 7\u001b[0m line \u001b[0;36m2\n\u001b[0;32m     <a href='vscode-notebook-cell:/g%3A/Udemy%20Courses%20Files/Python%20OOP/OOP_1.ipynb#W6sZmlsZQ%3D%3D?line=27'>28</a>\u001b[0m \u001b[39mdef\u001b[39;00m \u001b[39mget_all_info\u001b[39m(\u001b[39mself\u001b[39m):\n\u001b[1;32m---> <a href='vscode-notebook-cell:/g%3A/Udemy%20Courses%20Files/Python%20OOP/OOP_1.ipynb#W6sZmlsZQ%3D%3D?line=28'>29</a>\u001b[0m     \u001b[39mreturn\u001b[39;00m \u001b[39mf\u001b[39m\u001b[39m\"\u001b[39m\u001b[39m{\u001b[39;00m\u001b[39mself\u001b[39m\u001b[39m.\u001b[39mname_with_title()\u001b[39m}\u001b[39;00m\u001b[39m, your full name is \u001b[39m\u001b[39m{\u001b[39;00m\u001b[39mself\u001b[39;49m\u001b[39m.\u001b[39;49mgetFullName()\u001b[39m}\u001b[39;00m\u001b[39m, and your gender is \u001b[39m\u001b[39m{\u001b[39;00m\u001b[39mself\u001b[39m\u001b[39m.\u001b[39mgender\u001b[39m}\u001b[39;00m\u001b[39m\"\u001b[39m\n",
      "\u001b[1;32mg:\\Udemy Courses Files\\Python OOP\\OOP_1.ipynb Cell 7\u001b[0m line \u001b[0;36m1\n\u001b[0;32m     <a href='vscode-notebook-cell:/g%3A/Udemy%20Courses%20Files/Python%20OOP/OOP_1.ipynb#W6sZmlsZQ%3D%3D?line=12'>13</a>\u001b[0m \u001b[39mdef\u001b[39;00m \u001b[39mgetFullName\u001b[39m(\u001b[39mself\u001b[39m):\n\u001b[0;32m     <a href='vscode-notebook-cell:/g%3A/Udemy%20Courses%20Files/Python%20OOP/OOP_1.ipynb#W6sZmlsZQ%3D%3D?line=13'>14</a>\u001b[0m    \u001b[39mif\u001b[39;00m \u001b[39mself\u001b[39m\u001b[39m.\u001b[39mfirst_name \u001b[39min\u001b[39;00m Member\u001b[39m.\u001b[39mnot_allowed_names:\n\u001b[1;32m---> <a href='vscode-notebook-cell:/g%3A/Udemy%20Courses%20Files/Python%20OOP/OOP_1.ipynb#W6sZmlsZQ%3D%3D?line=14'>15</a>\u001b[0m        \u001b[39mraise\u001b[39;00m \u001b[39mValueError\u001b[39;00m(\u001b[39m\"\u001b[39m\u001b[39mThis name is not allowed\u001b[39m\u001b[39m\"\u001b[39m)\n\u001b[0;32m     <a href='vscode-notebook-cell:/g%3A/Udemy%20Courses%20Files/Python%20OOP/OOP_1.ipynb#W6sZmlsZQ%3D%3D?line=15'>16</a>\u001b[0m    \u001b[39melse\u001b[39;00m: \n\u001b[0;32m     <a href='vscode-notebook-cell:/g%3A/Udemy%20Courses%20Files/Python%20OOP/OOP_1.ipynb#W6sZmlsZQ%3D%3D?line=16'>17</a>\u001b[0m     \u001b[39mreturn\u001b[39;00m \u001b[39mf\u001b[39m\u001b[39m\"\u001b[39m\u001b[39m{\u001b[39;00m\u001b[39mself\u001b[39m\u001b[39m.\u001b[39mfirst_name\u001b[39m}\u001b[39;00m\u001b[39m \u001b[39m\u001b[39m{\u001b[39;00m\u001b[39mself\u001b[39m\u001b[39m.\u001b[39mlast_name\u001b[39m}\u001b[39;00m\u001b[39m\"\u001b[39m\n",
      "\u001b[1;31mValueError\u001b[0m: This name is not allowed"
     ]
    }
   ],
   "source": [
    "Member_5 = Member(\"Shit\", \"Hell\", \"FF\")\n",
    "\n",
    "print(Member_5.get_all_info())"
   ]
  },
  {
   "cell_type": "code",
   "execution_count": 56,
   "metadata": {},
   "outputs": [
    {
     "name": "stdout",
     "output_type": "stream",
     "text": [
      "Hello from static method\n"
     ]
    }
   ],
   "source": [
    "Member.sayHello()"
   ]
  },
  {
   "cell_type": "code",
   "execution_count": null,
   "metadata": {},
   "outputs": [],
   "source": []
  }
 ],
 "metadata": {
  "kernelspec": {
   "display_name": "Python 3",
   "language": "python",
   "name": "python3"
  },
  "language_info": {
   "codemirror_mode": {
    "name": "ipython",
    "version": 3
   },
   "file_extension": ".py",
   "mimetype": "text/x-python",
   "name": "python",
   "nbconvert_exporter": "python",
   "pygments_lexer": "ipython3",
   "version": "3.11.4"
  }
 },
 "nbformat": 4,
 "nbformat_minor": 2
}
