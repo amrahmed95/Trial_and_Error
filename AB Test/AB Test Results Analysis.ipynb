{
 "cells": [
  {
   "cell_type": "code",
   "execution_count": 23,
   "metadata": {},
   "outputs": [],
   "source": [
    "import numpy as np\n",
    "import pandas as pd"
   ]
  },
  {
   "cell_type": "markdown",
   "metadata": {},
   "source": [
    "----------------- Simulating Click Data For A/B Test -----------------"
   ]
  },
  {
   "cell_type": "code",
   "execution_count": 24,
   "metadata": {},
   "outputs": [],
   "source": [
    "N_exp = 10000\n",
    "N_con = 10000"
   ]
  },
  {
   "cell_type": "code",
   "execution_count": 25,
   "metadata": {},
   "outputs": [],
   "source": [
    "# Generating Click Data\n",
    "clicks_exp = pd.Series(np.random.binomial(1, 0.5, N_exp))\n",
    "clicks_con = pd.Series(np.random.binomial(1, 0.2, N_con))"
   ]
  },
  {
   "cell_type": "code",
   "execution_count": 26,
   "metadata": {},
   "outputs": [],
   "source": [
    "# Generate Group Identifier\n",
    "exp_id = pd.Series(np.repeat(\"exp\", N_exp))\n",
    "con_id = pd.Series(np.repeat(\"con\", N_con))"
   ]
  },
  {
   "cell_type": "code",
   "execution_count": 27,
   "metadata": {},
   "outputs": [],
   "source": [
    "df_exp = pd.concat([clicks_con, con_id], axis=1)\n",
    "df_con = pd.concat([clicks_exp, exp_id], axis=1)"
   ]
  },
  {
   "cell_type": "code",
   "execution_count": 28,
   "metadata": {},
   "outputs": [
    {
     "name": "stdout",
     "output_type": "stream",
     "text": [
      "      click group\n",
      "0         0   con\n",
      "1         0   con\n",
      "2         1   con\n",
      "3         0   con\n",
      "4         0   con\n",
      "...     ...   ...\n",
      "9995      0   con\n",
      "9996      0   con\n",
      "9997      0   con\n",
      "9998      0   con\n",
      "9999      0   con\n",
      "\n",
      "[10000 rows x 2 columns]\n",
      "      click group\n",
      "0         0   exp\n",
      "1         1   exp\n",
      "2         1   exp\n",
      "3         0   exp\n",
      "4         0   exp\n",
      "...     ...   ...\n",
      "9995      1   exp\n",
      "9996      0   exp\n",
      "9997      1   exp\n",
      "9998      1   exp\n",
      "9999      0   exp\n",
      "\n",
      "[10000 rows x 2 columns]\n"
     ]
    }
   ],
   "source": [
    "df_exp.columns = [\"click\", \"group\"]\n",
    "df_con.columns = [\"click\", \"group\"]\n",
    "print(df_exp)\n",
    "print(df_con)"
   ]
  },
  {
   "cell_type": "code",
   "execution_count": 29,
   "metadata": {},
   "outputs": [
    {
     "name": "stdout",
     "output_type": "stream",
     "text": [
      "       click group\n",
      "0          0   con\n",
      "1          0   con\n",
      "2          1   con\n",
      "3          0   con\n",
      "4          0   con\n",
      "...      ...   ...\n",
      "19995      1   exp\n",
      "19996      0   exp\n",
      "19997      1   exp\n",
      "19998      1   exp\n",
      "19999      0   exp\n",
      "\n",
      "[20000 rows x 2 columns]\n"
     ]
    }
   ],
   "source": [
    "df_ab_test = pd.concat([df_exp, df_con]).reset_index(drop=True)\n",
    "print(df_ab_test)"
   ]
  },
  {
   "cell_type": "code",
   "execution_count": 30,
   "metadata": {},
   "outputs": [
    {
     "name": "stdout",
     "output_type": "stream",
     "text": [
      "group\n",
      "con    1955\n",
      "exp    5033\n",
      "Name: click, dtype: int32\n"
     ]
    }
   ],
   "source": [
    "# total clicks for control and experimental groups\n",
    "\n",
    "print(df_ab_test.groupby(\"group\")['click'].sum())\n",
    "\n",
    "x_con = df_ab_test.groupby(\"group\")['click'].sum().loc[\"con\"]\n",
    "x_exp = df_ab_test.groupby(\"group\")['click'].sum().loc[\"exp\"]"
   ]
  },
  {
   "cell_type": "code",
   "execution_count": 31,
   "metadata": {},
   "outputs": [
    {
     "name": "stdout",
     "output_type": "stream",
     "text": [
      "Click probabilities of control group:  0.1955\n",
      "Click probabilities of experimental group:  0.5033\n"
     ]
    }
   ],
   "source": [
    "# Calculate the click probabilities of control and experimental groups\n",
    "\n",
    "p_con_hat = x_con / N_con\n",
    "p_exp_hat = x_exp / N_exp \n",
    "\n",
    "print(\"Click probabilities of control group: \", p_con_hat)\n",
    "print(\"Click probabilities of experimental group: \", p_exp_hat)"
   ]
  },
  {
   "cell_type": "code",
   "execution_count": 35,
   "metadata": {},
   "outputs": [
    {
     "name": "stdout",
     "output_type": "stream",
     "text": [
      "Pooled Success Probability (p^):  0.3494\n"
     ]
    }
   ],
   "source": [
    "# Pooled Success Probability\n",
    "\n",
    "p_pooled_hat = (x_con + x_exp) / (N_con + N_exp)\n",
    "print(\"Pooled Success Probability (p^): \", p_pooled_hat)"
   ]
  },
  {
   "cell_type": "code",
   "execution_count": 34,
   "metadata": {},
   "outputs": [
    {
     "name": "stdout",
     "output_type": "stream",
     "text": [
      "Pooled Variance:  4.546392800000001e-05\n"
     ]
    }
   ],
   "source": [
    "# Pooled Variance\n",
    "\n",
    "var_pooled_hat = p_pooled_hat * (1 - p_pooled_hat) * (1 / N_con + 1 / N_exp)\n",
    "print(\"Pooled Variance: \", var_pooled_hat)"
   ]
  },
  {
   "cell_type": "code",
   "execution_count": 36,
   "metadata": {},
   "outputs": [
    {
     "name": "stdout",
     "output_type": "stream",
     "text": [
      "Standard Error:  0.00674269441692266\n"
     ]
    }
   ],
   "source": [
    "# Standard Error\n",
    "\n",
    "se_pooled_hat = np.sqrt(var_pooled_hat)\n",
    "print(\"Standard Error: \", se_pooled_hat)"
   ]
  },
  {
   "cell_type": "code",
   "execution_count": 37,
   "metadata": {},
   "outputs": [
    {
     "name": "stdout",
     "output_type": "stream",
     "text": [
      "Test Statistic for 2 sample z-test:  -45.64940674569065\n"
     ]
    }
   ],
   "source": [
    "# calculate test statistics\n",
    "\n",
    "Test_stat = (p_con_hat - p_exp_hat) / se_pooled_hat\n",
    "print(\"Test Statistic for 2 sample z-test: \", Test_stat)"
   ]
  },
  {
   "cell_type": "code",
   "execution_count": 40,
   "metadata": {},
   "outputs": [
    {
     "name": "stdout",
     "output_type": "stream",
     "text": [
      "Z Critical Value from standard Normal Distribution:  1.959963984540054\n"
     ]
    }
   ],
   "source": [
    "# Calculate z critical\n",
    "\n",
    "from scipy.stats import norm\n",
    "\n",
    "alpha = 0.05\n",
    "z_critical = norm.ppf(1 - alpha/2)\n",
    "print(\"Z Critical Value from standard Normal Distribution: \", z_critical)"
   ]
  },
  {
   "cell_type": "code",
   "execution_count": 42,
   "metadata": {},
   "outputs": [
    {
     "name": "stdout",
     "output_type": "stream",
     "text": [
      "P Value:  0.0\n"
     ]
    }
   ],
   "source": [
    "# Calculate P value\n",
    "\n",
    "p_value = 2 * (1 - norm.cdf(abs(Test_stat)))\n",
    "print(\"P Value: \", p_value)\n",
    "\n",
    "# p_value = 2 * norm.sf(abs(Test_stat))"
   ]
  },
  {
   "cell_type": "code",
   "execution_count": 45,
   "metadata": {},
   "outputs": [
    {
     "name": "stdout",
     "output_type": "stream",
     "text": [
      "We reject the null hypothesis\n",
      "There is a statistically significance difference between control and experimental versions\n"
     ]
    }
   ],
   "source": [
    "# Check if the test is statistically significant\n",
    "\n",
    "if p_value < alpha:\n",
    "    print(\"We reject the null hypothesis\")\n",
    "    print(\"There is a statistically significance difference between control and experimental versions\")\n",
    "else:\n",
    "    print(\"We fail to reject the null hypothesis\")\n",
    "    print(\"There is no statistically significance difference between control and experimental versions\")\n"
   ]
  },
  {
   "cell_type": "code",
   "execution_count": 50,
   "metadata": {},
   "outputs": [
    {
     "name": "stdout",
     "output_type": "stream",
     "text": [
      "Confidence Interval:  [-0.321 -0.295]\n"
     ]
    }
   ],
   "source": [
    "# Calculate confidence interval\n",
    "\n",
    "ci = np.array([round((p_con_hat - p_exp_hat) - z_critical * se_pooled_hat, 3) , round((p_con_hat - p_exp_hat) + z_critical * se_pooled_hat,3)])\n",
    "print(\"Confidence Interval: \", ci)\n"
   ]
  },
  {
   "cell_type": "code",
   "execution_count": 68,
   "metadata": {},
   "outputs": [],
   "source": [
    "# Check if the test is Practically significant\n",
    "\n",
    "def check_if_practical_significant(delta):\n",
    "    if delta < ci[0]:\n",
    "        print(\"The test is practically significant\")\n",
    "    else:\n",
    "        print(\"It's possible that the change is not practically significant\")"
   ]
  },
  {
   "cell_type": "code",
   "execution_count": 69,
   "metadata": {},
   "outputs": [
    {
     "name": "stdout",
     "output_type": "stream",
     "text": [
      "The test is practically significant\n"
     ]
    }
   ],
   "source": [
    "check_if_practical_significant(-0.4)"
   ]
  },
  {
   "cell_type": "code",
   "execution_count": 70,
   "metadata": {},
   "outputs": [
    {
     "name": "stdout",
     "output_type": "stream",
     "text": [
      "It's possible that the change is not practically significant\n"
     ]
    }
   ],
   "source": [
    "check_if_practical_significant(0.32)"
   ]
  }
 ],
 "metadata": {
  "kernelspec": {
   "display_name": "Python 3",
   "language": "python",
   "name": "python3"
  },
  "language_info": {
   "codemirror_mode": {
    "name": "ipython",
    "version": 3
   },
   "file_extension": ".py",
   "mimetype": "text/x-python",
   "name": "python",
   "nbconvert_exporter": "python",
   "pygments_lexer": "ipython3",
   "version": "3.12.0"
  }
 },
 "nbformat": 4,
 "nbformat_minor": 2
}
